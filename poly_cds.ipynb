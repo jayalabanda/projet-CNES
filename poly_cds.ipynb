{
 "cells": [
  {
   "cell_type": "code",
   "execution_count": null,
   "metadata": {},
   "outputs": [],
   "source": [
    "import geopandas as gpd\n",
    "from shapely.geometry import Polygon\n",
    "import pandas as pd\n",
    "\n",
    "coords_data = pd.read_csv('data/coordinates_files/var.csv')\n",
    "\n",
    "lat_point_list = coords_data['latitude'].tolist()\n",
    "lon_point_list = coords_data['longitude'].tolist()\n",
    "\n",
    "polygon_geom = Polygon(zip(lat_point_list, lon_point_list))\n",
    "crs = {'init': 'epsg:4326'}\n",
    "polygon = gpd.GeoDataFrame(index=[0], crs=crs, geometry=[polygon_geom])\n",
    "print(polygon.geometry)\n",
    "\n",
    "polygon.to_file('data/polygon.geojson', driver='GeoJSON')\n",
    "polygon.to_file('data/polygon.shp', driver='ESRI Shapefile')"
   ]
  },
  {
   "cell_type": "code",
   "execution_count": null,
   "metadata": {},
   "outputs": [],
   "source": []
  }
 ],
 "metadata": {
  "interpreter": {
   "hash": "ace81096349c869321c6bb7a4e8ca89a45d8ddcaa76cfdf42f78b268683519dd"
  },
  "kernelspec": {
   "display_name": "Python 3.8.10 64-bit ('geop': conda)",
   "language": "python",
   "name": "python3"
  },
  "language_info": {
   "codemirror_mode": {
    "name": "ipython",
    "version": 3
   },
   "file_extension": ".py",
   "mimetype": "text/x-python",
   "name": "python",
   "nbconvert_exporter": "python",
   "pygments_lexer": "ipython3",
   "version": "3.8.10"
  },
  "orig_nbformat": 4
 },
 "nbformat": 4,
 "nbformat_minor": 2
}
