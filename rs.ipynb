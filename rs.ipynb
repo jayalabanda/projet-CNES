{
 "cells": [
  {
   "cell_type": "code",
   "execution_count": null,
   "metadata": {},
   "outputs": [],
   "source": [
    "import rasterio as rio\n",
    "from rasterio import plot\n",
    "import matplotlib.pyplot as plt\n",
    "import numpy as np\n",
    "\n",
    "%matplotlib inline"
   ]
  },
  {
   "cell_type": "code",
   "execution_count": null,
   "metadata": {},
   "outputs": [],
   "source": [
    "image_path = '/'.join(\n",
    "    ['./data', 'S2B_MSIL2A_20200806T105619_N0214_R094_T30TXQ_20200806T131026.SAFE', 'GRANULE',\n",
    "    'L2A_T30TXQ_A017852_20200806T105752', 'IMG_DATA', 'R10m/']\n",
    ")\n",
    "image_path"
   ]
  },
  {
   "cell_type": "code",
   "execution_count": null,
   "metadata": {},
   "outputs": [],
   "source": [
    "# band2 = rio.open(image_path + 'T30TXQ_20200806T105619_B02_10m.jp2', driver='JP2OpenJPEG') #blue\n",
    "# band3 = rio.open(image_path + 'T30TXQ_20200806T105619_B03_10m.jp2', driver='JP2OpenJPEG') #green\n",
    "band4 = rio.open(image_path + 'T30TXQ_20200806T105619_B04_10m.jp2', driver='JP2OpenJPEG') #red\n",
    "# band5 = rio.open(image_path + 'T30TXQ_20200806T105619_B05_20m.jp2', driver='JP2OpenJPEG')\n",
    "band8 = rio.open(image_path + 'T30TXQ_20200806T105619_B08_10m.jp2', driver='JP2OpenJPEG') #nir"
   ]
  },
  {
   "cell_type": "code",
   "execution_count": null,
   "metadata": {},
   "outputs": [],
   "source": [
    "print(band4.count)\n",
    "print(band4.width)\n",
    "print(band4.height)"
   ]
  },
  {
   "cell_type": "code",
   "execution_count": null,
   "metadata": {},
   "outputs": [],
   "source": [
    "plot.show(band4)"
   ]
  },
  {
   "cell_type": "code",
   "execution_count": null,
   "metadata": {},
   "outputs": [],
   "source": [
    "band4.dtypes[0]"
   ]
  },
  {
   "cell_type": "code",
   "execution_count": null,
   "metadata": {},
   "outputs": [],
   "source": [
    "band4.crs"
   ]
  },
  {
   "cell_type": "code",
   "execution_count": null,
   "metadata": {},
   "outputs": [],
   "source": [
    "band4.transform"
   ]
  },
  {
   "cell_type": "code",
   "execution_count": null,
   "metadata": {},
   "outputs": [],
   "source": [
    "band4.read(1)"
   ]
  },
  {
   "cell_type": "code",
   "execution_count": null,
   "metadata": {},
   "outputs": [],
   "source": [
    "fig, (ax1, ax2) = plt.subplots(1, 2, figsize=(16, 9))\n",
    "plot.show(band4, ax=ax1)\n",
    "plot.show(band8, ax=ax2)\n",
    "fig.tight_layout()"
   ]
  },
  {
   "cell_type": "code",
   "execution_count": null,
   "metadata": {},
   "outputs": [],
   "source": [
    "red = band4.read(1).astype('float64')\n",
    "nir = band8.read(1).astype('float64')"
   ]
  },
  {
   "cell_type": "code",
   "execution_count": null,
   "metadata": {},
   "outputs": [],
   "source": [
    "ndvi = np.where(\n",
    "    (nir + red) == 0.,\n",
    "    0.,\n",
    "    (nir - red) / (nir + red)\n",
    ")\n",
    "\n",
    "ndvi"
   ]
  },
  {
   "cell_type": "code",
   "execution_count": null,
   "metadata": {},
   "outputs": [],
   "source": [
    "ndvi_img = rio.open('./output/ndvi_img.tiff', 'w', driver='GTiff',\n",
    "    width=band4.width, height=band4.height, count=1,\n",
    "    crs=band4.crs, transform=band4.transform,\n",
    "    dtype='float64'\n",
    ")\n",
    "\n",
    "ndvi_img.write(ndvi, 1)\n",
    "ndvi_img.close()"
   ]
  },
  {
   "cell_type": "code",
   "execution_count": null,
   "metadata": {},
   "outputs": [],
   "source": [
    "ndvi = rio.open('./output/ndvi_img.tiff')\n",
    "\n",
    "plt.figure(figsize=(16, 9))\n",
    "plot.show(ndvi)"
   ]
  },
  {
   "cell_type": "code",
   "execution_count": null,
   "metadata": {},
   "outputs": [],
   "source": [
    "fig, (ax1, ax2, ax3) = plt.subplots(1, 3, figsize=(16, 9))\n",
    "plot.show(band2, ax=ax1, cmap='Blues')\n",
    "plot.show(band3, ax=ax2, cmap='Greens')\n",
    "plot.show(band4, ax=ax3, cmap='Reds')\n",
    "fig.tight_layout()"
   ]
  },
  {
   "cell_type": "code",
   "execution_count": null,
   "metadata": {},
   "outputs": [],
   "source": [
    "trueColor = rio.open('./output/SentinelTrueColor2.tiff', 'w', driver='Gtiff',\n",
    "    width=band4.width, height=band4.height,\n",
    "    count=3,\n",
    "    crs=band4.crs,\n",
    "    transform=band4.transform,\n",
    "    dtype=band4.dtypes[0]\n",
    ")\n",
    "\n",
    "trueColor.write(band2.read(1), 3) #blue\n",
    "trueColor.write(band3.read(1), 2) #green\n",
    "trueColor.write(band4.read(1), 1) #red\n",
    "trueColor.close()"
   ]
  },
  {
   "cell_type": "code",
   "execution_count": null,
   "metadata": {},
   "outputs": [],
   "source": [
    "trueColor = rio.open('./output/SentinelTrueColor3.tiff', 'w', driver='Gtiff',\n",
    "    width=band4.width, height=band4.height,\n",
    "    count=4,\n",
    "    crs=band4.crs,\n",
    "    transform=band4.transform,\n",
    "    dtype=band4.dtypes[0]\n",
    ")\n",
    "\n",
    "trueColor.write(band8.read(1), 4) #nir\n",
    "trueColor.write(band2.read(1), 3) #blue\n",
    "trueColor.write(band3.read(1), 2) #green\n",
    "trueColor.write(band4.read(1), 1) #red\n",
    "trueColor.close()"
   ]
  },
  {
   "cell_type": "code",
   "execution_count": null,
   "metadata": {},
   "outputs": [],
   "source": [
    "ndvi = (band8.read(1) - band4.read(1)) / (band8.read(1) + band4.read(1))\n",
    "plot.show(ndvi)"
   ]
  },
  {
   "cell_type": "code",
   "execution_count": null,
   "metadata": {},
   "outputs": [],
   "source": [
    "src = rio.open(r\"./output/SentinelTrueColor2.tiff\", count=3)\n",
    "plot.show(src)"
   ]
  },
  {
   "cell_type": "code",
   "execution_count": null,
   "metadata": {},
   "outputs": [],
   "source": [
    "trueColor = rio.open('./output/SentinelTrueColor3.tiff')\n",
    "plot.show_hist(trueColor, bins=50, lw=0.0, stacked=False, alpha=0.3, histtype='stepfilled', title=\"Histogram\")"
   ]
  },
  {
   "cell_type": "code",
   "execution_count": null,
   "metadata": {},
   "outputs": [],
   "source": []
  }
 ],
 "metadata": {
  "interpreter": {
   "hash": "55b03f22f5ba085f7d66bc3e0c9ceacb024f6f488acd55b094b0b566b1975ec0"
  },
  "kernelspec": {
   "display_name": "Python 3.8.12 64-bit ('env_cnes': conda)",
   "name": "python3"
  },
  "language_info": {
   "codemirror_mode": {
    "name": "ipython",
    "version": 3
   },
   "file_extension": ".py",
   "mimetype": "text/x-python",
   "name": "python",
   "nbconvert_exporter": "python",
   "pygments_lexer": "ipython3",
   "version": "3.8.12"
  },
  "orig_nbformat": 4
 },
 "nbformat": 4,
 "nbformat_minor": 2
}
