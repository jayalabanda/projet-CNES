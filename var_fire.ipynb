{
 "cells": [
  {
   "cell_type": "code",
   "execution_count": null,
   "metadata": {},
   "outputs": [],
   "source": [
    "import datetime as dt\n",
    "import utils\n",
    "from sentinelsat import SentinelAPI\n",
    "import json\n",
    "import rasterio\n",
    "import itertools\n",
    "\n",
    "import numpy as np\n",
    "import matplotlib.pyplot as plt\n",
    "import seaborn as sns\n",
    "from skimage.morphology import erosion, dilation, opening, closing, disk\n",
    "\n",
    "from rasterio import plot\n",
    "# import ee # Earth Engine\n",
    "# ee.Initialize()\n",
    "# ee.Authenticate()"
   ]
  },
  {
   "cell_type": "code",
   "execution_count": null,
   "metadata": {},
   "outputs": [],
   "source": [
    "geojson_path = \"data/var.geojson\"\n",
    "credentials_path = \"secrets/sentinel_api_credentials.json\"\n",
    "wildfire_date = dt.date(2021, 8, 17)\n",
    "observation_interval = 15\n",
    "path = 'data/'\n",
    "output_folder = 'output/'"
   ]
  },
  {
   "cell_type": "code",
   "execution_count": null,
   "metadata": {},
   "outputs": [],
   "source": [
    "with open(credentials_path, 'r') as infile:\n",
    "    credentials = json.load(infile)\n",
    "\n",
    "api = SentinelAPI(\n",
    "    credentials[\"username\"],\n",
    "    credentials[\"password\"]\n",
    ")"
   ]
  },
  {
   "cell_type": "code",
   "execution_count": null,
   "metadata": {},
   "outputs": [],
   "source": [
    "before_image, after_image = utils.get_before_after_images(\n",
    "    api=api, wildfire_date=wildfire_date, geojson_path=geojson_path,\n",
    "    observation_interval=observation_interval, path=path,\n",
    "    band1='B04', band2='B08', name='var', output_folder=output_folder,\n",
    "    resolution=10, cloud_threshold=40\n",
    ")"
   ]
  },
  {
   "cell_type": "code",
   "execution_count": null,
   "metadata": {},
   "outputs": [],
   "source": [
    "# plot before_image and after_image side by side\n",
    "fig, ax = plt.subplots(1, 2, figsize=(12, 12))\n",
    "ax[0].imshow(before_image)\n",
    "ax[1].imshow(after_image)\n",
    "plt.show()"
   ]
  },
  {
   "cell_type": "code",
   "execution_count": null,
   "metadata": {},
   "outputs": [],
   "source": [
    "diff = before_image - after_image\n",
    "\n",
    "plt.figure(figsize=(10, 10))\n",
    "plt.imshow(diff)\n",
    "plt.show()"
   ]
  },
  {
   "cell_type": "code",
   "execution_count": null,
   "metadata": {},
   "outputs": [],
   "source": [
    "thresholded = utils.threshold_filter(diff, threshold=0.25)\n",
    "\n",
    "plt.figure(figsize=(10, 10))\n",
    "plt.imshow(diff)\n",
    "plt.show()"
   ]
  },
  {
   "cell_type": "code",
   "execution_count": null,
   "metadata": {},
   "outputs": [],
   "source": [
    "fig, axs = plt.subplots(2, 2, figsize=(12, 12))\n",
    "axs[0, 0].imshow(before_image)\n",
    "axs[0, 1].imshow(after_image)\n",
    "axs[1, 0].imshow(diff)\n",
    "axs[1, 1].imshow(thresholded)\n",
    "plt.show()"
   ]
  },
  {
   "cell_type": "markdown",
   "metadata": {},
   "source": [
    "Open tiff files"
   ]
  },
  {
   "cell_type": "code",
   "execution_count": null,
   "metadata": {},
   "outputs": [],
   "source": [
    "arr1 = rasterio.open('./output/before_var.tiff').read(1)\n",
    "arr2 = rasterio.open('./output/after_var.tiff').read(1)\n",
    "diff = arr1 - arr2\n",
    "\n",
    "plt.figure(figsize=(16, 9))\n",
    "plt.imshow(diff)\n",
    "plt.show()"
   ]
  },
  {
   "cell_type": "code",
   "execution_count": null,
   "metadata": {},
   "outputs": [],
   "source": [
    "thresholded = utils.threshold_filter(diff, threshold=0.25)\n",
    "# thresholded[thresholded > 0] = 1"
   ]
  },
  {
   "cell_type": "code",
   "execution_count": null,
   "metadata": {},
   "outputs": [],
   "source": [
    "fig, axs = plt.subplots(2, 2, figsize=(12, 12))\n",
    "axs[0, 0].imshow(arr1)\n",
    "axs[0, 1].imshow(arr2)\n",
    "axs[1, 0].imshow(diff)\n",
    "axs[1, 1].imshow(thresholded)\n",
    "plt.show()"
   ]
  },
  {
   "cell_type": "code",
   "execution_count": null,
   "metadata": {},
   "outputs": [],
   "source": [
    "frag_count = 6\n",
    "frag_size = int(diff.shape[0] / frag_count)\n",
    "frag_dict = {}\n",
    "\n",
    "for y, x in itertools.product(range(frag_count), range(frag_count)):\n",
    "    frag_dict[(x, y)] = diff[y * frag_size: (y + 1) * frag_size,\n",
    "        x * frag_size: (x + 1) * frag_size]"
   ]
  },
  {
   "cell_type": "code",
   "execution_count": null,
   "metadata": {},
   "outputs": [],
   "source": [
    "fig, axs = plt.subplots(frag_count, frag_count, figsize=(10, 10))\n",
    "for y, x in itertools.product(range(frag_count), range(frag_count)):\n",
    "    axs[y, x].imshow(frag_dict[(x, y)])\n",
    "    axs[y, x].axis('off')\n",
    "plt.tight_layout()\n",
    "plt.show()"
   ]
  },
  {
   "cell_type": "code",
   "execution_count": null,
   "metadata": {},
   "outputs": [],
   "source": [
    "res = utils.merge_four_images([\n",
    "    frag_dict[(3, 4)], frag_dict[(4, 4)], frag_dict[(3, 5)], frag_dict[(4, 5)]\n",
    "])\n",
    "\n",
    "res = utils.threshold_filter(res, threshold=0.21)\n",
    "# res[res > 0] = 1\n",
    "\n",
    "plt.imshow(res)\n",
    "plt.show()"
   ]
  },
  {
   "cell_type": "code",
   "execution_count": null,
   "metadata": {},
   "outputs": [],
   "source": [
    "utils.calculate_area(res, diff) * 100"
   ]
  },
  {
   "cell_type": "markdown",
   "metadata": {},
   "source": [
    "True burnt area is around 7000 ha."
   ]
  },
  {
   "cell_type": "code",
   "execution_count": null,
   "metadata": {},
   "outputs": [],
   "source": [
    "def plot_comparison(original, filtered, filter_name):\n",
    "    fig, (ax1, ax2) = plt.subplots(ncols=2, figsize=(8, 4), sharex=True,\n",
    "                                   sharey=True)\n",
    "    ax1.imshow(original)\n",
    "    ax1.set_title('original')\n",
    "    ax1.axis('off')\n",
    "    ax2.imshow(filtered)\n",
    "    ax2.set_title(filter_name)\n",
    "    ax2.axis('off')"
   ]
  },
  {
   "cell_type": "markdown",
   "metadata": {},
   "source": [
    "Morphology from `skimage`"
   ]
  },
  {
   "cell_type": "code",
   "execution_count": null,
   "metadata": {},
   "outputs": [],
   "source": [
    "footprint = disk(6)\n",
    "eroded = erosion(res, footprint)\n",
    "plot_comparison(res, eroded, 'erosion')\n",
    "plt.show()\n",
    "\n",
    "print(utils.calculate_area(eroded, diff) * 100)"
   ]
  },
  {
   "cell_type": "code",
   "execution_count": null,
   "metadata": {},
   "outputs": [],
   "source": [
    "dilated = dilation(res, footprint)\n",
    "plot_comparison(res, dilated, 'dilation')\n",
    "plt.show()\n",
    "\n",
    "print(utils.calculate_area(dilated, diff) * 100)"
   ]
  },
  {
   "cell_type": "code",
   "execution_count": null,
   "metadata": {},
   "outputs": [],
   "source": [
    "opened = opening(res, footprint)\n",
    "plot_comparison(res, opened, 'opening')\n",
    "plt.show()\n",
    "\n",
    "print(utils.calculate_area(opened, diff) * 100)"
   ]
  },
  {
   "cell_type": "code",
   "execution_count": null,
   "metadata": {},
   "outputs": [],
   "source": [
    "closed = closing(res, footprint)\n",
    "plot_comparison(res, closed, 'closing')\n",
    "plt.show()\n",
    "\n",
    "print(utils.calculate_area(closed, diff) * 100)"
   ]
  },
  {
   "cell_type": "code",
   "execution_count": null,
   "metadata": {},
   "outputs": [],
   "source": [
    "from skimage.morphology import area_closing, area_opening\n",
    "\n",
    "plot_comparison(res, area_opening(res), 'area_opening')\n",
    "plt.show()\n",
    "\n",
    "plot_comparison(res, area_closing(res), 'area_closing')\n",
    "plt.show()"
   ]
  },
  {
   "cell_type": "markdown",
   "metadata": {},
   "source": [
    "---\n",
    "Running the following cells is equivalent to calling `get_before_after_images` directly"
   ]
  },
  {
   "cell_type": "code",
   "execution_count": null,
   "metadata": {},
   "outputs": [],
   "source": [
    "dates = (dt.date(2021, 8, 2), dt.date(2021, 8, 16))\n",
    "images_df = utils.get_dataframe_between_dates(api, dates[0], dates[1], geojson_path)"
   ]
  },
  {
   "cell_type": "code",
   "execution_count": null,
   "metadata": {},
   "outputs": [],
   "source": [
    "images_df = utils.minimize_dataframe(images_df)"
   ]
  },
  {
   "cell_type": "code",
   "execution_count": null,
   "metadata": {},
   "outputs": [],
   "source": [
    "key_cols = [\"cloudcoverpercentage\", \"vegetationpercentage\",\n",
    "            \"waterpercentage\", \"size\", \"ingestiondate\", \"score\"]\n",
    "images_df[key_cols]"
   ]
  },
  {
   "cell_type": "code",
   "execution_count": null,
   "metadata": {},
   "outputs": [],
   "source": [
    "uuid, title = utils.get_uuid_title(images_df)"
   ]
  },
  {
   "cell_type": "code",
   "execution_count": null,
   "metadata": {},
   "outputs": [],
   "source": [
    "path = './data/'\n",
    "utils.download_from_api(api, uuid, title, path)"
   ]
  },
  {
   "cell_type": "code",
   "execution_count": null,
   "metadata": {},
   "outputs": [],
   "source": [
    "corr_matrix = images_df.corr()\n",
    "\n",
    "plt.figure(figsize=(10, 10))\n",
    "hm = sns.heatmap(corr_matrix, linewidths=1, linecolor='gray', cmap='coolwarm')\n",
    "hm.set_yticklabels(hm.get_yticklabels(), fontsize=11)\n",
    "hm.set_xticklabels(hm.get_xticklabels(), rotation=45, fontsize=11, ha='right')\n",
    "plt.show()"
   ]
  },
  {
   "cell_type": "code",
   "execution_count": null,
   "metadata": {},
   "outputs": [],
   "source": [
    "wildfire_date = dt.date(2021, 8, 17)\n",
    "observation_interval = 15"
   ]
  },
  {
   "cell_type": "code",
   "execution_count": null,
   "metadata": {},
   "outputs": [],
   "source": [
    "test1 = utils.get_image(api=api, wildfire_date=wildfire_date,\n",
    "    observation_interval=observation_interval, when='before',\n",
    "    geojson_path=geojson_path, path='data/',\n",
    "    band1='B04', band2='B08', output_folder='output/', resolution=10)"
   ]
  },
  {
   "cell_type": "code",
   "execution_count": null,
   "metadata": {},
   "outputs": [],
   "source": [
    "plt.figure(figsize=(16, 9))\n",
    "plot.show(test1)\n",
    "plt.show()"
   ]
  },
  {
   "cell_type": "code",
   "execution_count": null,
   "metadata": {},
   "outputs": [],
   "source": [
    "test2 = utils.get_image(api=api, wildfire_date=wildfire_date,\n",
    "    observation_interval=observation_interval, when='after',\n",
    "    geojson_path=geojson_path, path='data/',\n",
    "    band1='B04', band2='B08', output_folder='output/', resolution=10)"
   ]
  },
  {
   "cell_type": "code",
   "execution_count": null,
   "metadata": {},
   "outputs": [],
   "source": [
    "plt.figure(figsize=(16, 9))\n",
    "plot.show(test2)\n",
    "plt.show()"
   ]
  },
  {
   "cell_type": "code",
   "execution_count": null,
   "metadata": {},
   "outputs": [],
   "source": [
    "diff = test1 - test2\n",
    "\n",
    "plt.figure(figsize=(16, 9))\n",
    "plt.imshow(diff)\n",
    "plt.show()"
   ]
  },
  {
   "cell_type": "code",
   "execution_count": null,
   "metadata": {},
   "outputs": [],
   "source": [
    "diff = utils.threshold_filter(diff, 0.25)\n",
    "\n",
    "plt.figure(figsize=(16, 9))\n",
    "plt.imshow(diff)\n",
    "plt.show()"
   ]
  },
  {
   "cell_type": "code",
   "execution_count": null,
   "metadata": {},
   "outputs": [],
   "source": []
  }
 ],
 "metadata": {
  "interpreter": {
   "hash": "55b03f22f5ba085f7d66bc3e0c9ceacb024f6f488acd55b094b0b566b1975ec0"
  },
  "kernelspec": {
   "display_name": "Python 3.8.11 64-bit ('env_cnes': conda)",
   "language": "python",
   "name": "python3"
  },
  "language_info": {
   "codemirror_mode": {
    "name": "ipython",
    "version": 3
   },
   "file_extension": ".py",
   "mimetype": "text/x-python",
   "name": "python",
   "nbconvert_exporter": "python",
   "pygments_lexer": "ipython3",
   "version": "3.9.7"
  },
  "orig_nbformat": 4
 },
 "nbformat": 4,
 "nbformat_minor": 2
}
