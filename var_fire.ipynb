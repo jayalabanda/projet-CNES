{
 "cells": [
  {
   "cell_type": "code",
   "execution_count": null,
   "metadata": {},
   "outputs": [],
   "source": [
    "import datetime as dt\n",
    "import utils\n",
    "from sentinelsat import SentinelAPI\n",
    "import json\n",
    "import rasterio\n",
    "import numpy as np\n",
    "import matplotlib.pyplot as plt\n",
    "import seaborn as sns\n",
    "\n",
    "from rasterio import plot"
   ]
  },
  {
   "cell_type": "code",
   "execution_count": null,
   "metadata": {},
   "outputs": [],
   "source": [
    "geojson_path = \"data/var.geojson\"\n",
    "credentials_path = \"secrets/sentinel_api_credentials.json\"\n",
    "wildfire_date = dt.date(2021, 8, 17)\n",
    "observation_interval = 15\n",
    "path = 'data/'\n",
    "output_folder = 'output/'"
   ]
  },
  {
   "cell_type": "code",
   "execution_count": null,
   "metadata": {},
   "outputs": [],
   "source": [
    "with open(credentials_path, 'r') as infile:\n",
    "    credentials = json.load(infile)\n",
    "\n",
    "api = SentinelAPI(\n",
    "    credentials[\"username\"],\n",
    "    credentials[\"password\"]\n",
    ")"
   ]
  },
  {
   "cell_type": "code",
   "execution_count": null,
   "metadata": {},
   "outputs": [],
   "source": [
    "before_image, after_image = utils.get_before_after_images(\n",
    "    api=api, wildfire_date=wildfire_date, geojson_path=geojson_path,\n",
    "    observation_interval=observation_interval, path=path,\n",
    "    band1='B04', band2='B08', output_folder=output_folder,\n",
    "    resolution=10, cloud_threshold=40\n",
    ")"
   ]
  },
  {
   "cell_type": "code",
   "execution_count": null,
   "metadata": {},
   "outputs": [],
   "source": [
    "# plot before_image and after_image side by side\n",
    "fig, ax = plt.subplots(1, 2, figsize=(12, 12))\n",
    "ax[0].imshow(before_image)\n",
    "ax[1].imshow(after_image)\n",
    "plt.show()"
   ]
  },
  {
   "cell_type": "code",
   "execution_count": null,
   "metadata": {},
   "outputs": [],
   "source": [
    "diff = before_image - after_image\n",
    "\n",
    "plt.figure(figsize=(10, 10))\n",
    "plt.imshow(diff)\n",
    "plt.show()"
   ]
  },
  {
   "cell_type": "code",
   "execution_count": null,
   "metadata": {},
   "outputs": [],
   "source": [
    "thresholded = utils.threshold_filter(diff, threshold=0.25)\n",
    "\n",
    "plt.figure(figsize=(10, 10))\n",
    "plt.imshow(diff)\n",
    "plt.show()"
   ]
  },
  {
   "cell_type": "code",
   "execution_count": null,
   "metadata": {},
   "outputs": [],
   "source": [
    "fig, axs = plt.subplots(2, 2, figsize=(12, 12))\n",
    "axs[0, 0].imshow(before_image)\n",
    "axs[0, 1].imshow(after_image)\n",
    "axs[1, 0].imshow(diff)\n",
    "axs[1, 1].imshow(thresholded)\n",
    "plt.show()"
   ]
  },
  {
   "cell_type": "markdown",
   "metadata": {},
   "source": [
    "---\n",
    "Running the following cells is equivalent to calling `get_before_after_images` directly"
   ]
  },
  {
   "cell_type": "code",
   "execution_count": null,
   "metadata": {},
   "outputs": [],
   "source": [
    "dates = (dt.date(2021, 8, 2), dt.date(2021, 8, 16))\n",
    "images_df = utils.get_dataframe_between_dates(api, dates[0], dates[1], geojson_path)"
   ]
  },
  {
   "cell_type": "code",
   "execution_count": null,
   "metadata": {},
   "outputs": [],
   "source": [
    "images_df = utils.minimize_dataframe(images_df)"
   ]
  },
  {
   "cell_type": "code",
   "execution_count": null,
   "metadata": {},
   "outputs": [],
   "source": [
    "key_cols = [\"cloudcoverpercentage\", \"vegetationpercentage\",\n",
    "            \"waterpercentage\", \"size\", \"ingestiondate\", \"score\"]\n",
    "images_df[key_cols]"
   ]
  },
  {
   "cell_type": "code",
   "execution_count": null,
   "metadata": {},
   "outputs": [],
   "source": [
    "uuid, title = utils.get_uuid_title(images_df)"
   ]
  },
  {
   "cell_type": "code",
   "execution_count": null,
   "metadata": {},
   "outputs": [],
   "source": [
    "path = './data/'\n",
    "utils.download_from_api(api, uuid, title, path)"
   ]
  },
  {
   "cell_type": "code",
   "execution_count": null,
   "metadata": {},
   "outputs": [],
   "source": [
    "corr_matrix = images_df.corr()\n",
    "\n",
    "plt.figure(figsize=(10, 10))\n",
    "hm = sns.heatmap(corr_matrix, linewidths=1, linecolor='gray', cmap='coolwarm')\n",
    "hm.set_yticklabels(hm.get_yticklabels(), fontsize=11)\n",
    "hm.set_xticklabels(hm.get_xticklabels(), rotation=45, fontsize=11, ha='right')\n",
    "plt.show()"
   ]
  },
  {
   "cell_type": "code",
   "execution_count": null,
   "metadata": {},
   "outputs": [],
   "source": [
    "wildfire_date = dt.date(2021, 8, 17)\n",
    "observation_interval = 15"
   ]
  },
  {
   "cell_type": "code",
   "execution_count": null,
   "metadata": {},
   "outputs": [],
   "source": [
    "test1 = utils.get_image(api=api, wildfire_date=wildfire_date,\n",
    "    observation_interval=observation_interval, when='before',\n",
    "    geojson_path=geojson_path, path='data/',\n",
    "    band1='B04', band2='B08', output_folder='output/', resolution=10)"
   ]
  },
  {
   "cell_type": "code",
   "execution_count": null,
   "metadata": {},
   "outputs": [],
   "source": [
    "plt.figure(figsize=(16, 9))\n",
    "plot.show(test1)\n",
    "plt.show()"
   ]
  },
  {
   "cell_type": "code",
   "execution_count": null,
   "metadata": {},
   "outputs": [],
   "source": [
    "test2 = utils.get_image(api=api, wildfire_date=wildfire_date,\n",
    "    observation_interval=observation_interval, when='after',\n",
    "    geojson_path=geojson_path, path='data/',\n",
    "    band1='B04', band2='B08', output_folder='output/', resolution=10)"
   ]
  },
  {
   "cell_type": "code",
   "execution_count": null,
   "metadata": {},
   "outputs": [],
   "source": [
    "plt.figure(figsize=(16, 9))\n",
    "plot.show(test2)\n",
    "plt.show()"
   ]
  },
  {
   "cell_type": "code",
   "execution_count": null,
   "metadata": {},
   "outputs": [],
   "source": [
    "diff = test1 - test2\n",
    "\n",
    "plt.figure(figsize=(16, 9))\n",
    "plt.imshow(diff)\n",
    "plt.show()"
   ]
  },
  {
   "cell_type": "code",
   "execution_count": null,
   "metadata": {},
   "outputs": [],
   "source": [
    "diff = utils.threshold_filter(diff, 0.25)\n",
    "\n",
    "plt.figure(figsize=(16, 9))\n",
    "plt.imshow(diff)\n",
    "plt.show()"
   ]
  },
  {
   "cell_type": "code",
   "execution_count": null,
   "metadata": {},
   "outputs": [],
   "source": []
  }
 ],
 "metadata": {
  "interpreter": {
   "hash": "55b03f22f5ba085f7d66bc3e0c9ceacb024f6f488acd55b094b0b566b1975ec0"
  },
  "kernelspec": {
   "display_name": "Python 3.8.11 64-bit ('env_cnes': conda)",
   "language": "python",
   "name": "python3"
  },
  "language_info": {
   "codemirror_mode": {
    "name": "ipython",
    "version": 3
   },
   "file_extension": ".py",
   "mimetype": "text/x-python",
   "name": "python",
   "nbconvert_exporter": "python",
   "pygments_lexer": "ipython3",
   "version": "3.8.11"
  },
  "orig_nbformat": 4
 },
 "nbformat": 4,
 "nbformat_minor": 2
}
