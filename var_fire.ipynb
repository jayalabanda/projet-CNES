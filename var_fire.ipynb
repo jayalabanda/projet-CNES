{
 "cells": [
  {
   "cell_type": "code",
   "execution_count": null,
   "metadata": {},
   "outputs": [],
   "source": [
    "import datetime as dt\n",
    "import utils\n",
    "from sentinelsat import SentinelAPI\n",
    "import json\n",
    "import rasterio\n",
    "import numpy as np\n",
    "import matplotlib.pyplot as plt\n",
    "import seaborn as sns\n",
    "sns.set_style('darkgrid')\n",
    "\n",
    "from rasterio import plot"
   ]
  },
  {
   "cell_type": "code",
   "execution_count": null,
   "metadata": {},
   "outputs": [],
   "source": [
    "geojson_path = \"data/var.geojson\"\n",
    "dates = (dt.date(2021, 8, 14), dt.date(2021, 8, 25))\n",
    "credentials_path = \"secrets/sentinel_api_credentials.json\"\n",
    "\n",
    "with open(credentials_path, 'r') as infile:\n",
    "    credentials = json.load(infile)\n",
    "\n",
    "api = SentinelAPI(\n",
    "    credentials[\"username\"],\n",
    "    credentials[\"password\"]\n",
    ")"
   ]
  },
  {
   "cell_type": "code",
   "execution_count": null,
   "metadata": {},
   "outputs": [],
   "source": [
    "images_df = utils.get_dataframe_between_dates(api, dates[0], dates[1], geojson_path)"
   ]
  },
  {
   "cell_type": "code",
   "execution_count": null,
   "metadata": {},
   "outputs": [],
   "source": [
    "key_columns = [\"cloudcoverpercentage\", \"vegetationpercentage\", \"waterpercentage\"]\n",
    "images_df[key_columns]"
   ]
  },
  {
   "cell_type": "code",
   "execution_count": null,
   "metadata": {},
   "outputs": [],
   "source": [
    "uuid, title = utils.minimize_dataframe(images_df)\n",
    "print(uuid, title)"
   ]
  },
  {
   "cell_type": "code",
   "execution_count": null,
   "metadata": {},
   "outputs": [],
   "source": [
    "path = './data/'\n",
    "utils.download_from_api(api, uuid, title, path)"
   ]
  },
  {
   "cell_type": "code",
   "execution_count": null,
   "metadata": {},
   "outputs": [],
   "source": [
    "im_path = path + title + '.SAFE'\n",
    "output_folder = './output/'\n",
    "print(im_path)\n",
    "img_before = utils.create_tiff_image(im_path, 'before', 'B04', 'B08',\n",
    "    output_folder=output_folder, resolution=10)"
   ]
  },
  {
   "cell_type": "code",
   "execution_count": null,
   "metadata": {},
   "outputs": [],
   "source": [
    "corr_matrix = images_df.corr()\n",
    "\n",
    "plt.figure(figsize=(10, 10))\n",
    "hm = sns.heatmap(corr_matrix, linewidths=1, linecolor='gray', cmap='coolwarm')\n",
    "hm.set_yticklabels(hm.get_yticklabels(), fontsize=11)\n",
    "hm.set_xticklabels(hm.get_xticklabels(), rotation=45, fontsize=11, ha='right')\n",
    "plt.show()"
   ]
  },
  {
   "cell_type": "code",
   "execution_count": null,
   "metadata": {},
   "outputs": [],
   "source": [
    "image_path = '/'.join(\n",
    "    ['./data', 'S2B_MSIL2A_20210822T102559_N0301_R108_T31TGJ_20210822T133528.SAFE', 'GRANULE',\n",
    "    'L2A_T31TGJ_A023300_20210822T103247', 'IMG_DATA', 'R10m/']\n",
    ")\n",
    "print(image_path)\n",
    "\n",
    "band4 = rasterio.open(image_path + 'T31TGJ_20210822T102559_B04_10m.jp2', driver='JP2OpenJPEG') # red\n",
    "band8 = rasterio.open(image_path + 'T31TGJ_20210822T102559_B08_10m.jp2', driver='JP2OpenJPEG') # nir\n",
    "\n",
    "print(band4.count)\n",
    "print(band4.width)\n",
    "print(band4.height)\n",
    "\n",
    "red = band4.read(1).astype('float64')\n",
    "nir = band8.read(1).astype('float64')\n",
    "\n",
    "ndvi_bef = np.where(\n",
    "    (nir + red) == 0.,\n",
    "    0.,\n",
    "    (nir - red) / (nir + red)\n",
    ")"
   ]
  },
  {
   "cell_type": "code",
   "execution_count": null,
   "metadata": {},
   "outputs": [],
   "source": [
    "plt.figure(figsize=(16, 9))\n",
    "plot.show(ndvi_bef)\n",
    "plt.show()"
   ]
  },
  {
   "cell_type": "code",
   "execution_count": null,
   "metadata": {},
   "outputs": [],
   "source": [
    "plt.figure(figsize=(12, 8))\n",
    "plot.show(img_before)\n",
    "plt.show()"
   ]
  },
  {
   "cell_type": "code",
   "execution_count": null,
   "metadata": {},
   "outputs": [],
   "source": [
    "wildfire_date = dt.date(2021, 8, 17)\n",
    "observation_interval = 14"
   ]
  },
  {
   "cell_type": "code",
   "execution_count": null,
   "metadata": {},
   "outputs": [],
   "source": [
    "before_image, after_image = utils.get_before_after_images(\n",
    "    api, dt.date(2021, 8, 17), 14, geojson_path,\n",
    "    \"B04\", \"B08\", cloud_threshold=40, resolution=10\n",
    ")"
   ]
  },
  {
   "cell_type": "code",
   "execution_count": null,
   "metadata": {},
   "outputs": [],
   "source": [
    "plt.imshow(before_image)\n",
    "plt.show()"
   ]
  }
 ],
 "metadata": {
  "interpreter": {
   "hash": "55b03f22f5ba085f7d66bc3e0c9ceacb024f6f488acd55b094b0b566b1975ec0"
  },
  "kernelspec": {
   "display_name": "Python 3.8.11 64-bit ('env_cnes': conda)",
   "language": "python",
   "name": "python3"
  },
  "language_info": {
   "codemirror_mode": {
    "name": "ipython",
    "version": 3
   },
   "file_extension": ".py",
   "mimetype": "text/x-python",
   "name": "python",
   "nbconvert_exporter": "python",
   "pygments_lexer": "ipython3",
   "version": "3.8.11"
  },
  "orig_nbformat": 4
 },
 "nbformat": 4,
 "nbformat_minor": 2
}
