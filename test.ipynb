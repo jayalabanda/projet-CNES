{
 "cells": [
  {
   "cell_type": "code",
   "execution_count": null,
   "metadata": {},
   "outputs": [],
   "source": [
    "from sentinelsat import SentinelAPI\n",
    "\n",
    "user = 'joanko36'\n",
    "password = 'JoanKo36'\n",
    "api = SentinelAPI(user, password, 'https://scihub.copernicus.eu/dhus')"
   ]
  },
  {
   "cell_type": "code",
   "execution_count": null,
   "metadata": {},
   "outputs": [],
   "source": [
    "import geopandas as gpd\n",
    "import folium\n",
    "import numpy as np\n",
    "\n",
    "nReserve = gpd.read_file('NReserve/NaturalReserve_Polygon.shp')\n",
    "\n",
    "m = folium.Map([44.471092480715676, -0.5780267715454102], zoom_start=14)\n",
    "folium.GeoJson(nReserve).add_to(m)\n",
    "m"
   ]
  },
  {
   "cell_type": "code",
   "execution_count": null,
   "metadata": {},
   "outputs": [],
   "source": [
    "from shapely.geometry import MultiPolygon, Polygon\n",
    "\n",
    "footprint = None\n",
    "for i in nReserve['geometry']:\n",
    "    footprint = i\n",
    "\n",
    "footprint"
   ]
  },
  {
   "cell_type": "code",
   "execution_count": null,
   "metadata": {},
   "outputs": [],
   "source": [
    "products = api.query(footprint,\n",
    "                    #  date = ('20200727', '20200729'),\n",
    "                    date = ('20190601', '20190626'),\n",
    "                    platformname = 'Sentinel-2',\n",
    "                    # processinglevel = 'Level-2C',\n",
    "                    cloudcoverpercentage = (0,10)\n",
    "                    )"
   ]
  },
  {
   "cell_type": "code",
   "execution_count": null,
   "metadata": {},
   "outputs": [],
   "source": [
    "products_gdf = api.to_geodataframe(products)\n",
    "products_gdf_sorted = products_gdf.sort_values(['cloudcoverpercentage'], ascending=[True])\n",
    "# products_gdf_sorted = products_gdf_sorted(['title']).startswith('S2C')\n",
    "# products_gdf_sorted\n",
    "products_gdf"
   ]
  },
  {
   "cell_type": "code",
   "execution_count": null,
   "metadata": {},
   "outputs": [],
   "source": [
    "# api.download(\"16e95baf-bbcb-43fe-ab67-5fecea2ffde5\")"
   ]
  },
  {
   "cell_type": "code",
   "execution_count": null,
   "metadata": {},
   "outputs": [],
   "source": [
    "import rasterio as rio\n",
    "\n",
    "# Open Bands 4, 3 and 2 with Rasterio\n",
    "R10 = 'S2B_MSIL2A_20190605T100039_N0212_R122_T33TTG_20190605T143319.SAFE/GRANULE/L2A_T33TTG_A011731_20190605T100530/IMG_DATA/R10m'\n",
    "b4 = rio.open(R10+'/T33TTG_20190605T100039_B04_10m.jp2')\n",
    "b3 = rio.open(R10+'/T33TTG_20190605T100039_B03_10m.jp2')\n",
    "b2 = rio.open(R10+'/T33TTG_20190605T100039_B02_10m.jp2')"
   ]
  },
  {
   "cell_type": "code",
   "execution_count": null,
   "metadata": {},
   "outputs": [],
   "source": [
    "# Create an RGB image \n",
    "# division_factor = np.max(b2.read(1))*255\n",
    "with rio.open('RGB.tiff','w',driver='Gtiff', width=b4.width, height=b4.height, \n",
    "              count=3,crs=b4.crs,transform=b4.transform, dtype=b4.dtypes[0]) as rgb:\n",
    "    rgb.write(b4.read(1)/(np.max(b4.read(1))*255),1) \n",
    "    rgb.write(b3.read(1)/(np.max(b3.read(1))*255),2) \n",
    "    rgb.write(b2.read(1)/(np.max(b2.read(1))*255),3) \n",
    "    rgb.close()\n",
    "\n",
    "#read min, max des channels \n",
    "# ok\n",
    "\n",
    "#télécharger niveau 2C (luminance > réflectance) on n'arrive pas à read 2C ? \n",
    "# pas de résultats significatifs sur internet\n",
    "\n",
    "# masque de nuages \n",
    "# suffit de filtrer lors de la recherche avant le téléchargement\n",
    "\n",
    "# peps "
   ]
  },
  {
   "cell_type": "code",
   "execution_count": null,
   "metadata": {},
   "outputs": [],
   "source": [
    "nReserve_proj = nReserve.to_crs({'init': 'epsg:32633'})\n",
    "from rasterio.mask import mask\n",
    "with rio.open(\"RGB.tiff\") as src:\n",
    "    out_image, out_transform = mask(src, nReserve_proj.geometry,crop=True)\n",
    "    out_meta = src.meta.copy()\n",
    "    out_meta.update({\"driver\": \"GTiff\",\n",
    "                 \"height\": out_image.shape[1],\n",
    "                 \"width\": out_image.shape[2],\n",
    "                 \"transform\": out_transform})\n",
    "    \n",
    "with rio.open(\"RGB_masked.tif\", \"w\", **out_meta) as dest:\n",
    "    dest.write(out_image)"
   ]
  },
  {
   "cell_type": "code",
   "execution_count": null,
   "metadata": {},
   "outputs": [],
   "source": [
    "import matplotlib.pyplot as plt\n",
    "import rasterio.plot as rplt\n",
    "\n",
    "msk = rio.open(r\"RGB_masked.tif\")\n",
    "fig, ax = plt.subplots(1, figsize=(18, 18))\n",
    "rplt.show(msk.read([1,2,3]))\n",
    "# rplt.show(msk)\n",
    "plt.show()"
   ]
  },
  {
   "cell_type": "code",
   "execution_count": null,
   "metadata": {},
   "outputs": [],
   "source": [
    "# b8 = rio.open('T33TTG_20190605T100039_B08_10m.jp2')\n",
    "\n",
    "# red = b4.read()\n",
    "# nir = b8.read()"
   ]
  },
  {
   "cell_type": "code",
   "execution_count": null,
   "metadata": {},
   "outputs": [],
   "source": [
    "# ndvi = (nir.astype(float)-red.astype(float))/(nir+red)\n",
    "\n",
    "# meta = b4.meta\n",
    "\n",
    "# meta.update(driver='GTiff')\n",
    "# meta.update(dtype=rio.float32)\n",
    "\n",
    "# with rio.open('NDVI.tif', 'w', **meta) as dst:\n",
    "#     dst.write(ndvi.astype(rio.float32))"
   ]
  },
  {
   "cell_type": "code",
   "execution_count": null,
   "metadata": {},
   "outputs": [],
   "source": [
    "# tst = rio.open(r\"NDVI.tif\")\n",
    "# fig, ax = plt.subplots(1, figsize=(18, 18))\n",
    "# # rplt.show(msk.read([1,2,3]))\n",
    "# rplt.show(tst)\n",
    "# plt.show()"
   ]
  },
  {
   "cell_type": "code",
   "execution_count": null,
   "metadata": {},
   "outputs": [],
   "source": []
  }
 ],
 "metadata": {
  "interpreter": {
   "hash": "55b03f22f5ba085f7d66bc3e0c9ceacb024f6f488acd55b094b0b566b1975ec0"
  },
  "kernelspec": {
   "display_name": "Python 3 (ipykernel)",
   "language": "python",
   "name": "python3"
  },
  "language_info": {
   "codemirror_mode": {
    "name": "ipython",
    "version": 3
   },
   "file_extension": ".py",
   "mimetype": "text/x-python",
   "name": "python",
   "nbconvert_exporter": "python",
   "pygments_lexer": "ipython3",
   "version": "3.8.11"
  },
  "toc": {
   "base_numbering": 1,
   "nav_menu": {},
   "number_sections": true,
   "sideBar": true,
   "skip_h1_title": false,
   "title_cell": "Table of Contents",
   "title_sidebar": "Contents",
   "toc_cell": false,
   "toc_position": {},
   "toc_section_display": true,
   "toc_window_display": false
  },
  "varInspector": {
   "cols": {
    "lenName": 16,
    "lenType": 16,
    "lenVar": 40
   },
   "kernels_config": {
    "python": {
     "delete_cmd_postfix": "",
     "delete_cmd_prefix": "del ",
     "library": "var_list.py",
     "varRefreshCmd": "print(var_dic_list())"
    },
    "r": {
     "delete_cmd_postfix": ") ",
     "delete_cmd_prefix": "rm(",
     "library": "var_list.r",
     "varRefreshCmd": "cat(var_dic_list()) "
    }
   },
   "types_to_exclude": [
    "module",
    "function",
    "builtin_function_or_method",
    "instance",
    "_Feature"
   ],
   "window_display": false
  }
 },
 "nbformat": 4,
 "nbformat_minor": 2
}
