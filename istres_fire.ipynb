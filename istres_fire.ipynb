{
 "cells": [
  {
   "cell_type": "code",
   "execution_count": 1,
   "metadata": {},
   "outputs": [],
   "source": [
    "import numpy as np\n",
    "import matplotlib.pyplot as plt\n",
    "import pandas as pd\n",
    "\n",
    "import json\n",
    "import datetime as dt\n",
    "\n",
    "from sentinelsat import SentinelAPI\n",
    "import utils.data_collection as dc\n",
    "import utils.image_processing as ip\n",
    "import utils.land_coverage as lc\n",
    "\n",
    "import ee\n",
    "ee.Initialize()"
   ]
  },
  {
   "cell_type": "code",
   "execution_count": 2,
   "metadata": {},
   "outputs": [],
   "source": [
    "geojson_path = \"data/geojson_files/istres.geojson\"\n",
    "credentials_path = \"secrets/sentinel_api_credentials.json\"\n",
    "wildfire_date = dt.date(2020, 8, 24)\n",
    "observation_interval = 15\n",
    "path = 'data/'\n",
    "output_folder = 'output/'\n",
    "fire_name = 'istres'"
   ]
  },
  {
   "cell_type": "code",
   "execution_count": null,
   "metadata": {},
   "outputs": [],
   "source": [
    "with open(credentials_path, 'r') as infile:\n",
    "    credentials = json.load(infile)\n",
    "\n",
    "api = SentinelAPI(\n",
    "    credentials[\"username\"],\n",
    "    credentials[\"password\"]\n",
    ")"
   ]
  },
  {
   "cell_type": "code",
   "execution_count": null,
   "metadata": {},
   "outputs": [],
   "source": [
    "dc.get_before_after_images(\n",
    "    api=api,\n",
    "    wildfire_date=wildfire_date,\n",
    "    geojson_path=geojson_path,\n",
    "    observation_interval=observation_interval,\n",
    "    path=path,\n",
    "    fire_name=fire_name,\n",
    "    output_folder=output_folder,\n",
    "    resolution=10,\n",
    "    cloud_threshold=40\n",
    ")"
   ]
  },
  {
   "cell_type": "code",
   "execution_count": null,
   "metadata": {},
   "outputs": [],
   "source": [
    "lat, lon = 43.453228, 4.980225\n",
    "img_folder = 'data/S2B_MSIL2A_20200906T102559_N0214_R108_T31TFJ_20200906T132601.SAFE/'\n",
    "pixel_column, pixel_row = ip.get_fire_pixels(img_folder, lat, lon)"
   ]
  },
  {
   "cell_type": "code",
   "execution_count": null,
   "metadata": {},
   "outputs": [],
   "source": [
    "pixel_column, pixel_row"
   ]
  },
  {
   "cell_type": "code",
   "execution_count": null,
   "metadata": {},
   "outputs": [],
   "source": [
    "diff = dc.plot_ndvi_difference(output_folder, fire_name, figsize=(10, 10))\n",
    "plt.plot(pixel_column, pixel_row, 'ro', markersize=3)\n",
    "plt.show()"
   ]
  },
  {
   "cell_type": "code",
   "execution_count": null,
   "metadata": {},
   "outputs": [],
   "source": [
    "frag_count = 15\n",
    "split = ip.split_image(diff, frag_count)\n",
    "\n",
    "ip.plot_split_image(split, frag_count)\n",
    "plt.tight_layout()\n",
    "plt.show()"
   ]
  },
  {
   "cell_type": "code",
   "execution_count": null,
   "metadata": {},
   "outputs": [],
   "source": [
    "fire = ip.merge_images(2, [split[(8, 11)], split[(8, 12)]], horizontal=False)\n",
    "\n",
    "plt.figure(figsize=(8, 6))\n",
    "ip.imshow(fire, 'Istres Fire')\n",
    "plt.show()"
   ]
  },
  {
   "cell_type": "code",
   "execution_count": null,
   "metadata": {},
   "outputs": [],
   "source": [
    "thresholds = np.arange(0.2, 0.41, 0.02)\n",
    "areas = []\n",
    "for thr in thresholds:\n",
    "    tmp = ip.threshold_filter(fire, thr)\n",
    "    area = round(ip.calculate_area(tmp, diff) * 100, 4)\n",
    "    areas.append(area)"
   ]
  },
  {
   "cell_type": "code",
   "execution_count": null,
   "metadata": {},
   "outputs": [],
   "source": [
    "true_area = 319.6900\n",
    "\n",
    "plt.figure(figsize=(8, 6))\n",
    "plt.plot(thresholds, areas)\n",
    "plt.hlines(true_area, thresholds[0], thresholds[-1], colors='r', linestyles='dashed')\n",
    "plt.xlabel('Threshold')\n",
    "plt.ylabel('Burnt Area (ha)')\n",
    "plt.title('Istres Fire')\n",
    "plt.legend(['Calculated', 'True Value'])\n",
    "plt.show()"
   ]
  },
  {
   "cell_type": "code",
   "execution_count": null,
   "metadata": {},
   "outputs": [],
   "source": [
    "tmp = ip.threshold_filter(fire, 0.28)\n",
    "\n",
    "plt.figure(figsize=(8, 6))\n",
    "ip.imshow(tmp, 'Istres Fire')\n",
    "plt.show()"
   ]
  },
  {
   "cell_type": "code",
   "execution_count": null,
   "metadata": {},
   "outputs": [],
   "source": [
    "print(f'Area: {round(ip.calculate_area(tmp, diff) * 100, 4)} ha')"
   ]
  },
  {
   "cell_type": "code",
   "execution_count": null,
   "metadata": {},
   "outputs": [],
   "source": [
    "v1 = 5750\n",
    "v2 = 6650\n",
    "delta_v = v2 - v1\n",
    "h1 = 8300\n",
    "h2 = h1 + delta_v"
   ]
  },
  {
   "cell_type": "code",
   "execution_count": null,
   "metadata": {},
   "outputs": [],
   "source": [
    "plt.figure(figsize=(12, 12))\n",
    "plt.imshow(diff)\n",
    "plt.vlines(v1, 0, diff.shape[0], color='r', linestyle='dashed', linewidth=1)\n",
    "plt.vlines(v2, 0, diff.shape[0], color='r', linestyle='dashed', linewidth=1)\n",
    "plt.hlines(h1, 0, diff.shape[1], color='r', linestyle='dashed', linewidth=1)\n",
    "plt.hlines(h2, 0, diff.shape[1], color='r', linestyle='dashed', linewidth=1)\n",
    "plt.tight_layout()\n",
    "plt.show()"
   ]
  },
  {
   "cell_type": "code",
   "execution_count": null,
   "metadata": {},
   "outputs": [],
   "source": [
    "fire = diff[h1:h2, v1:v2]\n",
    "plt.imshow(fire)\n",
    "plt.axis('off')\n",
    "plt.savefig('./output/fire_istres.png')\n",
    "plt.show()"
   ]
  },
  {
   "cell_type": "code",
   "execution_count": null,
   "metadata": {},
   "outputs": [],
   "source": [
    "fire = ip.threshold_filter(fire, 0.28)\n",
    "plt.imshow(fire)\n",
    "plt.show()"
   ]
  },
  {
   "cell_type": "code",
   "execution_count": null,
   "metadata": {},
   "outputs": [],
   "source": [
    "rand_image = lc.create_sample_coordinates(fire, 42, 0.1)\n",
    "ip.imshow(rand_image, 'Sampled Coordinates')\n",
    "plt.show()"
   ]
  },
  {
   "cell_type": "code",
   "execution_count": null,
   "metadata": {},
   "outputs": [],
   "source": [
    "coordinates = lc.get_coordinates_from_pixels(rand_image, h1, v1, img_folder)\n",
    "coordinates[:5]"
   ]
  },
  {
   "cell_type": "code",
   "execution_count": null,
   "metadata": {},
   "outputs": [],
   "source": [
    "coordinates = pd.DataFrame(coordinates, columns=['latitude', 'longitude'])\n",
    "coordinates.to_csv('data/coordinates_files/coords_utm_istres.csv', index=False)\n",
    "coordinates.head()"
   ]
  },
  {
   "cell_type": "code",
   "execution_count": null,
   "metadata": {},
   "outputs": [],
   "source": [
    "land_cover_data = pd.read_csv('data/MODIS_LandCover_Type1.csv')\n",
    "land_cover_data"
   ]
  },
  {
   "cell_type": "code",
   "execution_count": null,
   "metadata": {},
   "outputs": [],
   "source": [
    "out_folder = 'output/pie_chart_istres/'\n",
    "samples = np.arange(50, 1001, 50)\n",
    "lc.create_plots(\n",
    "    samples=samples,\n",
    "    coordinates=coordinates,\n",
    "    seed=42,\n",
    "    land_cover_data=land_cover_data,\n",
    "    fire_name=fire_name,\n",
    "    out_folder=out_folder,\n",
    "    save_fig=True\n",
    ")"
   ]
  },
  {
   "cell_type": "code",
   "execution_count": 3,
   "metadata": {},
   "outputs": [],
   "source": [
    "lc.make_pie_chart_gif(\n",
    "    fire_name=fire_name,\n",
    "    file_path=out_folder,\n",
    "    save_all=True, duration=500, loop=0\n",
    ")"
   ]
  },
  {
   "cell_type": "markdown",
   "metadata": {},
   "source": [
    "<img src='output/pie_chart_istres/istres.gif' width=\"750\" align=\"center\">"
   ]
  },
  {
   "cell_type": "code",
   "execution_count": null,
   "metadata": {},
   "outputs": [],
   "source": []
  }
 ],
 "metadata": {
  "interpreter": {
   "hash": "55b03f22f5ba085f7d66bc3e0c9ceacb024f6f488acd55b094b0b566b1975ec0"
  },
  "kernelspec": {
   "display_name": "Python 3.9.7 64-bit ('env_cnes': conda)",
   "language": "python",
   "name": "python3"
  },
  "language_info": {
   "codemirror_mode": {
    "name": "ipython",
    "version": 3
   },
   "file_extension": ".py",
   "mimetype": "text/x-python",
   "name": "python",
   "nbconvert_exporter": "python",
   "pygments_lexer": "ipython3",
   "version": "3.9.7"
  },
  "orig_nbformat": 4
 },
 "nbformat": 4,
 "nbformat_minor": 2
}
