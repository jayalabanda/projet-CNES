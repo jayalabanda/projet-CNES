{
 "cells": [
  {
   "cell_type": "code",
   "execution_count": null,
   "metadata": {},
   "outputs": [],
   "source": [
    "import numpy as np\n",
    "import matplotlib.pyplot as plt\n",
    "\n",
    "import json\n",
    "import datetime as dt\n",
    "\n",
    "from sentinelsat import SentinelAPI\n",
    "import utils.data_collection as dc\n",
    "\n",
    "import ee\n",
    "ee.Initialize()"
   ]
  },
  {
   "cell_type": "code",
   "execution_count": null,
   "metadata": {},
   "outputs": [],
   "source": [
    "geojson_path = \"data/geojson_files/istres.geojson\"\n",
    "credentials_path = \"secrets/sentinel_api_credentials.json\"\n",
    "wildfire_date = dt.date(2020, 8, 24)\n",
    "observation_interval = 15\n",
    "path = 'data/'\n",
    "output_folder = 'output/'\n",
    "fire_name = 'istres'"
   ]
  },
  {
   "cell_type": "code",
   "execution_count": null,
   "metadata": {},
   "outputs": [],
   "source": [
    "with open(credentials_path, 'r') as infile:\n",
    "    credentials = json.load(infile)\n",
    "\n",
    "api = SentinelAPI(\n",
    "    credentials[\"username\"],\n",
    "    credentials[\"password\"]\n",
    ")"
   ]
  },
  {
   "cell_type": "code",
   "execution_count": null,
   "metadata": {},
   "outputs": [],
   "source": [
    "dc.get_before_after_images(\n",
    "    api=api,\n",
    "    wildfire_date=wildfire_date,\n",
    "    geojson_path=geojson_path,\n",
    "    observation_interval=observation_interval,\n",
    "    path=path,\n",
    "    fire_name=fire_name,\n",
    "    output_folder=output_folder,\n",
    "    resolution=10,\n",
    "    cloud_threshold=40\n",
    ")"
   ]
  },
  {
   "cell_type": "code",
   "execution_count": null,
   "metadata": {},
   "outputs": [],
   "source": [
    "import rasterio\n",
    "\n",
    "before = rasterio.open(f'{output_folder}before_{fire_name}.tiff').read(1)\n",
    "after = rasterio.open(f'{output_folder}after_{fire_name}.tiff').read(1)"
   ]
  },
  {
   "cell_type": "code",
   "execution_count": null,
   "metadata": {},
   "outputs": [],
   "source": [
    "plt.figure(figsize=(10, 10))\n",
    "plt.imshow(before)\n",
    "plt.show()"
   ]
  },
  {
   "cell_type": "code",
   "execution_count": null,
   "metadata": {},
   "outputs": [],
   "source": [
    "plt.figure(figsize=(10, 10))\n",
    "plt.imshow(after)\n",
    "plt.show()"
   ]
  },
  {
   "cell_type": "code",
   "execution_count": null,
   "metadata": {},
   "outputs": [],
   "source": [
    "diff = dc.plot_ndvi_difference(output_folder, fire_name, figsize=(10, 10))"
   ]
  },
  {
   "cell_type": "code",
   "execution_count": null,
   "metadata": {},
   "outputs": [],
   "source": [
    "true_area = 319.6900"
   ]
  }
 ],
 "metadata": {
  "interpreter": {
   "hash": "55b03f22f5ba085f7d66bc3e0c9ceacb024f6f488acd55b094b0b566b1975ec0"
  },
  "kernelspec": {
   "display_name": "Python 3.9.7 64-bit ('env_cnes': conda)",
   "language": "python",
   "name": "python3"
  },
  "language_info": {
   "codemirror_mode": {
    "name": "ipython",
    "version": 3
   },
   "file_extension": ".py",
   "mimetype": "text/x-python",
   "name": "python",
   "nbconvert_exporter": "python",
   "pygments_lexer": "ipython3",
   "version": "3.9.7"
  },
  "orig_nbformat": 4
 },
 "nbformat": 4,
 "nbformat_minor": 2
}
