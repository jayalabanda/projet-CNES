{
 "cells": [
  {
   "cell_type": "markdown",
   "metadata": {},
   "source": [
    "<p style=\"font-size:xx-large\">Table of contents</p>\n",
    "\n",
    "1. [Setup](#setup)\n",
    "    1. [Imports](#imports)\n",
    "    2. [Wildfire Information](#wildfire-info)\n",
    "    3. [File Constants](#file-constants)\n",
    "2. [Data Collection](#data-collection)\n",
    "3. [Image Processing](#image-processing)\n",
    "    1. [Wildifre Area](#wildfire-area)\n",
    "    2. [Morphology](#morphology)\n",
    "4. [Land Cover Classification](#land-cover-classification)\n",
    "    1. [Land Cover Datasets](#land-cover-datasets)\n",
    "    2. [Interactive Map](#interactive-map)\n",
    "5. [Wind Data](#wind-data)\n",
    "    1. [Create Wind Map](#wind-map)"
   ]
  },
  {
   "cell_type": "markdown",
   "metadata": {},
   "source": [
    "<a name=\"setup\"></a>\n",
    "# Setup\n",
    "\n",
    "<a name=\"imports\"></a>\n",
    "## Imports"
   ]
  },
  {
   "cell_type": "code",
   "execution_count": null,
   "metadata": {},
   "outputs": [],
   "source": [
    "import datetime as dt\n",
    "import json\n",
    "import os\n",
    "\n",
    "import ee\n",
    "import matplotlib.pyplot as plt\n",
    "import numpy as np\n",
    "\n",
    "import utils.user_inputs as ui\n",
    "\n",
    "from sentinelsat import SentinelAPI"
   ]
  },
  {
   "cell_type": "code",
   "execution_count": null,
   "metadata": {},
   "outputs": [],
   "source": [
    "# If you have never authenticated, this will raise an exception\n",
    "# and prompt you to authenticate. You only need to do this once.\n",
    "try:\n",
    "    ee.Initialize()\n",
    "except Exception as e:\n",
    "    ee.Authenticate()\n",
    "    ee.Initialize()"
   ]
  },
  {
   "cell_type": "markdown",
   "metadata": {},
   "source": [
    "Input the name of the location where the wildfire occurred. Examples are:\n",
    "* Istres\n",
    "* Montguers\n",
    "* etc."
   ]
  },
  {
   "cell_type": "code",
   "execution_count": null,
   "metadata": {},
   "outputs": [],
   "source": [
    "# Name of the place where the fire is located\n",
    "FIRE_NAME = ui.get_fire_name()\n",
    "\n",
    "# Folder where the JP2 images will be stored\n",
    "PATH = f'data/{FIRE_NAME}/'\n",
    "# Path to the folders where the TIFF, PNG, and GIF files will be stored\n",
    "OUTPUT_FOLDER = f\"output/{FIRE_NAME}/\"\n",
    "OUTPUT_MAPS = OUTPUT_FOLDER + \"maps/\"\n",
    "OUTPUT_PLOTS = OUTPUT_FOLDER + \"plots/\""
   ]
  },
  {
   "cell_type": "markdown",
   "metadata": {},
   "source": [
    "<a name=\"wildfire-info\"></a>\n",
    "## Wildfire information"
   ]
  },
  {
   "cell_type": "code",
   "execution_count": null,
   "metadata": {},
   "outputs": [],
   "source": [
    "with open(f\"data/info_fires/info_{FIRE_NAME}.json\") as f:\n",
    "    fire_info = json.load(f)\n",
    "\n",
    "# Date of the fire\n",
    "WILDFIRE_DATE = dt.datetime.strptime(fire_info[\"wildfire_date\"], \"%Y-%m-%d\")\n",
    "# Coordinates of the fire\n",
    "LATITUDE, LONGITUDE = fire_info[\"latitude\"], fire_info[\"longitude\"]\n",
    "# Actual area in hectares that burned. We retrieved the area on the news\n",
    "TRUE_AREA = fire_info[\"true_area\"]"
   ]
  },
  {
   "cell_type": "code",
   "execution_count": null,
   "metadata": {},
   "outputs": [],
   "source": [
    "# Path to the GeoJSON file\n",
    "GEOJSON_PATH = f\"data/geojson_files/{FIRE_NAME}.geojson\"\n",
    "# Path to the JSON file where the Sentinel API credentials are stored\n",
    "CREDENTIALS_PATH = \"secrets/sentinel_api_credentials.json\""
   ]
  },
  {
   "cell_type": "markdown",
   "metadata": {},
   "source": [
    "<a name=\"file-constants\"></a>\n",
    "## File constants\n",
    "\n",
    "* <u>Observation interval</u>:\n",
    "<p>The observation interval is somewhat arbitrary, but longer ranges allow us to retrieve more images, since they are taken every 5 days. Furthermore, the burned area is visible for a few weeks, even months, after the fire started.</p>\n",
    "\n",
    "\n",
    "* <u>Resolution</u>:\n",
    "<p>As of right now, we only use the <b>NDVI</b> of an image for the processing steps. The necessary bands, <code>B08</code> (near-infrared) and <code>B04</code> (red) are available at all resolutions (10, 20, and 60 m) but for better results we use 10.\n",
    "Other indexes, such as <i>SWIR</i>, need resolutions 20 or 60 but are not yet implemented.</p>\n",
    "\n",
    "\n",
    "* <u>Cloud threshold</u>:\n",
    "<p>We only retrieve the images below this threshold, because otherwise they are mostly no-data images or yield no valuable results.</p>\n",
    "\n",
    "\n",
    "* <u>Samples</u>:\n",
    "<p>After retrieving the land cover data, we use sample coordinates to create the pie charts.</p>"
   ]
  },
  {
   "cell_type": "code",
   "execution_count": null,
   "metadata": {},
   "outputs": [],
   "source": [
    "# Number of days both before and after the fire to get images\n",
    "OBSERVATION_INTERVAL = 15\n",
    "# Resolution of the images (10 m, 20 m, or 60 m)\n",
    "RESOLUTION = 10\n",
    "# Threshold for the cloud cover (between 0 and 100)\n",
    "CLOUD_THRESHOLD = 40\n",
    "# Seed for random number generator (for reproductibility)\n",
    "SEED = 42\n",
    "# Number of coordinates to use for the pie charts\n",
    "SAMPLES = np.arange(50, 1001, 50)"
   ]
  },
  {
   "cell_type": "markdown",
   "metadata": {},
   "source": [
    "<a name=\"data-collection\"></a>\n",
    "# Data Collection"
   ]
  },
  {
   "cell_type": "code",
   "execution_count": null,
   "metadata": {},
   "outputs": [],
   "source": [
    "from utils.data_collection import get_before_after_images, check_downloaded_data"
   ]
  },
  {
   "cell_type": "code",
   "execution_count": null,
   "metadata": {},
   "outputs": [],
   "source": [
    "with open(CREDENTIALS_PATH, 'r') as infile:\n",
    "    credentials = json.load(infile)\n",
    "\n",
    "api = SentinelAPI(\n",
    "    credentials[\"username\"],\n",
    "    credentials[\"password\"]\n",
    ")"
   ]
  },
  {
   "cell_type": "code",
   "execution_count": null,
   "metadata": {},
   "outputs": [],
   "source": [
    "for path in [PATH, OUTPUT_FOLDER, OUTPUT_MAPS, OUTPUT_PLOTS]:\n",
    "    if not os.path.exists(path):\n",
    "        os.makedirs(path)"
   ]
  },
  {
   "cell_type": "markdown",
   "metadata": {},
   "source": [
    "This is the main function that retrieves and downloads the relevant images. Many functions are called, available in [data_collection.py](utils/data_collection.py). The main idea is that we retrieve the images with the most information: less cloud coverage, less water presence, and larger in size (since no-data images are smaller).\n",
    "\n",
    "You may get the error __Product ... is not online. Triggered retrieval from Long Term Archive__, specially with older images. Unfortunately, the only solution we have found is to wait for 15-30 minutes (maybe more) and then try again.\n",
    "\n",
    "Another error, __NullPointerException__ may occur, but the solution is the same: try again after a few minutes.\n",
    "\n",
    "If you get the error __Index .. is out of bounds for axis 0 with size ..__, it means that a suitable image was not found. To solve the problem, you can try extending the observation interval by a few days, or lower the minimum size required for the images (it is set at 980 MB) inside the data collection file."
   ]
  },
  {
   "cell_type": "code",
   "execution_count": null,
   "metadata": {},
   "outputs": [],
   "source": [
    "if not check_downloaded_data(PATH, OUTPUT_FOLDER, FIRE_NAME):\n",
    "    try:\n",
    "        get_before_after_images(\n",
    "            api=api,\n",
    "            wildfire_date=WILDFIRE_DATE,\n",
    "            geojson_path=GEOJSON_PATH,\n",
    "            observation_interval=OBSERVATION_INTERVAL,\n",
    "            path=PATH,\n",
    "            fire_name=FIRE_NAME,\n",
    "            output_folder=OUTPUT_FOLDER,\n",
    "            resolution=RESOLUTION,\n",
    "            cloud_threshold=CLOUD_THRESHOLD\n",
    "        )\n",
    "    except Exception as e:\n",
    "        print(e)\n",
    "        exit()"
   ]
  },
  {
   "cell_type": "markdown",
   "metadata": {},
   "source": [
    "<a name=\"image-processing\"></a>\n",
    "# Image Processing\n",
    "\n",
    "The first step here is to retrieve the location of the fire inside the produced NDVI image. Instead of doing this manually, we can transform the coordinates from the JSON info file into pixel values. Then, we plot the pixels inside the image."
   ]
  },
  {
   "cell_type": "code",
   "execution_count": null,
   "metadata": {},
   "outputs": [],
   "source": [
    "import utils.image_processing as ip"
   ]
  },
  {
   "cell_type": "code",
   "execution_count": null,
   "metadata": {},
   "outputs": [],
   "source": [
    "# ip.plot_downloaded_images(FIRE_NAME, OUTPUT_FOLDER, save=True)"
   ]
  },
  {
   "cell_type": "code",
   "execution_count": null,
   "metadata": {},
   "outputs": [],
   "source": [
    "# The necessary information is stored in the following folder:\n",
    "img_folder = PATH + os.listdir(PATH)[1] + '/'\n",
    "print(img_folder)\n",
    "\n",
    "pixel_column, pixel_row = ip.get_fire_pixels(\n",
    "    img_folder, LATITUDE, LONGITUDE\n",
    ")"
   ]
  },
  {
   "cell_type": "code",
   "execution_count": null,
   "metadata": {},
   "outputs": [],
   "source": [
    "diff = ip.get_ndvi_difference(\n",
    "    OUTPUT_FOLDER, FIRE_NAME, save_diff=False\n",
    ")\n",
    "ax = ip.imshow(diff, figsize=(10, 10), title='NDVI Difference')\n",
    "plt.savefig(f'{OUTPUT_PLOTS}ndvi_difference.png', dpi=200)\n",
    "plt.show()"
   ]
  },
  {
   "cell_type": "code",
   "execution_count": null,
   "metadata": {},
   "outputs": [],
   "source": [
    "ax = ip.imshow(diff, figsize=(10, 10), title='NDVI Difference with Wildfire Location')\n",
    "ip.plot_location(ax, pixel_column, pixel_row)\n",
    "plt.savefig(f'{OUTPUT_PLOTS}ndvi_difference_w_fire.png', dpi=200)\n",
    "plt.show()"
   ]
  },
  {
   "cell_type": "markdown",
   "metadata": {},
   "source": [
    "Next, we ask the user to give pixel values to add lines to the image to zoom-in on the area of interest. We have explored methods to do this automatically but we have not been successful for now."
   ]
  },
  {
   "cell_type": "code",
   "execution_count": null,
   "metadata": {},
   "outputs": [],
   "source": [
    "print(f'The fire is located at pixels ({pixel_column}, {pixel_row}).\\n')"
   ]
  },
  {
   "cell_type": "code",
   "execution_count": null,
   "metadata": {
    "scrolled": false
   },
   "outputs": [],
   "source": [
    "fire, hline_1, vline_1 = ip.retrieve_fire_area(\n",
    "    diff, pixel_column, pixel_row,\n",
    "    figsize=(10, 10), title='Fire Area'\n",
    ")\n",
    "plt.savefig(f'{OUTPUT_PLOTS}fire_area.png', dpi=200)\n",
    "plt.show()"
   ]
  },
  {
   "cell_type": "markdown",
   "metadata": {},
   "source": [
    "<a name=\"wildifre-area\"></a>\n",
    "## Wildfire area\n",
    "\n",
    "Here we calculate the area that burned thanks to the difference in NDVI and we plot the results, along with the true value. This helps us to validate our functions.\n",
    "\n",
    "In order to obtain the optimal threshold value, we compute the area for different values of thresholds and keep the one that gives the best approximation."
   ]
  },
  {
   "cell_type": "code",
   "execution_count": null,
   "metadata": {},
   "outputs": [],
   "source": [
    "thresholds, areas = ip.get_thresholds_areas(fire, RESOLUTION)"
   ]
  },
  {
   "cell_type": "code",
   "execution_count": null,
   "metadata": {},
   "outputs": [],
   "source": [
    "ip.plot_area_vs_threshold(thresholds, areas, TRUE_AREA)\n",
    "plt.savefig(f'{OUTPUT_PLOTS}fire_area_thresholds.png', dpi=200)\n",
    "plt.show()"
   ]
  },
  {
   "cell_type": "code",
   "execution_count": null,
   "metadata": {},
   "outputs": [],
   "source": [
    "threshold = ip.get_threshold(thresholds, areas, TRUE_AREA)\n",
    "threshold"
   ]
  },
  {
   "cell_type": "code",
   "execution_count": null,
   "metadata": {},
   "outputs": [],
   "source": [
    "tmp = ip.threshold_filter(fire, threshold)\n",
    "ax = ip.imshow(tmp, figsize=(10, 10), title=f'Thresholded Fire\\nwith threshold = {threshold}')\n",
    "plt.savefig(f'{OUTPUT_PLOTS}thresholded_fire.png', dpi=200)\n",
    "plt.show()"
   ]
  },
  {
   "cell_type": "code",
   "execution_count": null,
   "metadata": {},
   "outputs": [],
   "source": [
    "print('Calculated area:', round(ip.calculate_area(tmp) * 100, 4), 'ha.')"
   ]
  },
  {
   "cell_type": "code",
   "execution_count": null,
   "metadata": {},
   "outputs": [],
   "source": [
    "print(f'The true area that burned is {TRUE_AREA} hectares.\\n')"
   ]
  },
  {
   "cell_type": "markdown",
   "metadata": {},
   "source": [
    "<a name=\"morphology\"></a>\n",
    "## Morphology\n",
    "\n",
    "For the final step in the image processing part, we use mathematical morphology to slighlty improve the quality of the image. More details are available here: [https://scikit-image.org/docs/stable/api/skimage.morphology.html](https://scikit-image.org/docs/stable/api/skimage.morphology.html)."
   ]
  },
  {
   "cell_type": "code",
   "execution_count": null,
   "metadata": {},
   "outputs": [],
   "source": [
    "from skimage.morphology import area_closing\n",
    "\n",
    "closed = area_closing(tmp, connectivity=2)\n",
    "ip.plot_comparison(tmp, closed, 'Area Closing')\n",
    "plt.savefig(f'{OUTPUT_PLOTS}area_closing.png', dpi=200)\n",
    "plt.show()"
   ]
  },
  {
   "cell_type": "code",
   "execution_count": null,
   "metadata": {},
   "outputs": [],
   "source": [
    "print('Area after morphology:', round(ip.calculate_area(closed) * 100, 4), 'ha.')"
   ]
  },
  {
   "cell_type": "markdown",
   "metadata": {},
   "source": [
    "You can see a small difference between the images: the bright areas are more \"connected\", whereas the dark spots are dimmer. This is why the calculated area is a little larger.\n",
    "\n",
    "Once you're satisfied with the results, execute the next cell."
   ]
  },
  {
   "cell_type": "code",
   "execution_count": null,
   "metadata": {},
   "outputs": [],
   "source": [
    "fire = closed.copy()\n",
    "del tmp\n",
    "del closed"
   ]
  },
  {
   "cell_type": "markdown",
   "metadata": {},
   "source": [
    "<a name=\"land-cover-classification\"></a>\n",
    "# Land Cover Classification\n",
    "\n",
    "<a name=\"land-cover-datasets\"></a>\n",
    "## Land cover datasets\n",
    "\n",
    "The next step consists in retrieving information on the type of land that was affected by the fire, such as crops or forests. Multiple datasets are available from Earth Engine's catalog. They use different resolutions and time ranges. The ones we use are:\n",
    "* [MODIS Land Cover](https://developers.google.com/earth-engine/datasets/catalog/MODIS_006_MCD12Q1?hl=en) _(2018, 500 m)_\n",
    "* [ESA World Cover](https://developers.google.com/earth-engine/datasets/catalog/ESA_WorldCover_v100) _(2020, 10 m)_\n",
    "* [Copernicus Global Land Service](https://developers.google.com/earth-engine/datasets/catalog/COPERNICUS_Landcover_100m_Proba-V-C3_Global) _(2019, 100 m)_\n",
    "* [Copernicus CORINE Land Cover](https://developers.google.com/earth-engine/datasets/catalog/COPERNICUS_CORINE_V20_100m) _(2018, 100 m)_. *Note: this dataset only covers Europe, so keep this in mind if you want information about wildfires in other continents.*"
   ]
  },
  {
   "cell_type": "code",
   "execution_count": null,
   "metadata": {},
   "outputs": [],
   "source": [
    "import utils.land_coverage as land_c"
   ]
  },
  {
   "cell_type": "code",
   "execution_count": null,
   "metadata": {},
   "outputs": [],
   "source": [
    "choice = land_c.get_choice()"
   ]
  },
  {
   "cell_type": "markdown",
   "metadata": {},
   "source": [
    "This is the selected land cover dataframe:"
   ]
  },
  {
   "cell_type": "code",
   "execution_count": null,
   "metadata": {},
   "outputs": [],
   "source": [
    "lc_dataframe = land_c.get_land_cover_dataframe(choice)\n",
    "lc_dataframe"
   ]
  },
  {
   "cell_type": "code",
   "execution_count": null,
   "metadata": {},
   "outputs": [],
   "source": [
    "prob = ui.get_percentage(case='land use')"
   ]
  },
  {
   "cell_type": "code",
   "execution_count": null,
   "metadata": {},
   "outputs": [],
   "source": [
    "rand_image = land_c.create_sample_coordinates(fire, SEED, prob)\n",
    "land_c.plot_sampled_coordinates(rand_image, prob, figsize=(10, 10), cmap='hot')\n",
    "plt.savefig(f'{OUTPUT_PLOTS}sampled_coordinates.png', dpi=200)\n",
    "plt.show()"
   ]
  },
  {
   "cell_type": "markdown",
   "metadata": {},
   "source": [
    "Conversely, we can transform pixel values from the image into coordinates."
   ]
  },
  {
   "cell_type": "code",
   "execution_count": null,
   "metadata": {},
   "outputs": [],
   "source": [
    "coordinates = land_c.get_coordinates_from_pixels(\n",
    "    rand_image, hline_1, vline_1, img_folder, FIRE_NAME\n",
    ")\n",
    "coordinates"
   ]
  },
  {
   "cell_type": "code",
   "execution_count": null,
   "metadata": {},
   "outputs": [],
   "source": [
    "output_folder = f\"output/{FIRE_NAME}/pie_charts/\"\n",
    "exists = os.path.exists(output_folder)\n",
    "if not exists:\n",
    "    os.makedirs(output_folder)\n",
    "is_empty = not any(os.scandir(output_folder))"
   ]
  },
  {
   "cell_type": "markdown",
   "metadata": {},
   "source": [
    "After asking the user for a land cover dataset, we create a GIF file from the pie charts, to see the evolution of land cover information we obtain."
   ]
  },
  {
   "cell_type": "code",
   "execution_count": null,
   "metadata": {},
   "outputs": [],
   "source": [
    "if exists and is_empty or not exists:\n",
    "    land_c.create_plots(\n",
    "        samples=SAMPLES,\n",
    "        coordinates=coordinates,\n",
    "        choice=choice,\n",
    "        seed=SEED,\n",
    "        fire_name=FIRE_NAME,\n",
    "        out_folder=output_folder,\n",
    "        save_fig=True\n",
    "    )"
   ]
  },
  {
   "cell_type": "code",
   "execution_count": null,
   "metadata": {},
   "outputs": [],
   "source": [
    "land_c.make_pie_chart_gif(\n",
    "    fire_name=FIRE_NAME,\n",
    "    file_path=output_folder,\n",
    "    save_all=True,\n",
    "    duration=500,\n",
    "    loop=0\n",
    ")"
   ]
  },
  {
   "cell_type": "markdown",
   "metadata": {},
   "source": [
    "You can open the GIF using your default program:"
   ]
  },
  {
   "cell_type": "code",
   "execution_count": null,
   "metadata": {},
   "outputs": [],
   "source": [
    "land_c.open_gif(FIRE_NAME, output_folder)"
   ]
  },
  {
   "cell_type": "markdown",
   "metadata": {},
   "source": [
    "Or, alternatively, you can display the GIF directly in the notebook:"
   ]
  },
  {
   "cell_type": "code",
   "execution_count": null,
   "metadata": {},
   "outputs": [],
   "source": [
    "import base64\n",
    "from IPython import display\n",
    "\n",
    "def show_gif(fname):\n",
    "    with open(fname, 'rb') as fd:\n",
    "        b64 = base64.b64encode(fd.read()).decode('ascii')\n",
    "    return display.HTML(f'<img src=\"data:image/gif;base64,{b64}\" />')\n",
    "\n",
    "show_gif(f'output/{FIRE_NAME}/pie_charts/{FIRE_NAME}.gif')"
   ]
  },
  {
   "cell_type": "markdown",
   "metadata": {},
   "source": [
    "<a name=\"interactive-map\"></a>\n",
    "## Create interactive map\n",
    "\n",
    "Finally, we create an interactive map using `geemap` to visualize the coordinates of the fire on a map, also adding the land cover layer."
   ]
  },
  {
   "cell_type": "code",
   "execution_count": null,
   "metadata": {},
   "outputs": [],
   "source": [
    "from utils.plot_map import create_map, save_map, open_map"
   ]
  },
  {
   "cell_type": "code",
   "execution_count": null,
   "metadata": {},
   "outputs": [],
   "source": [
    "prob = ui.get_percentage(case='map')"
   ]
  },
  {
   "cell_type": "code",
   "execution_count": null,
   "metadata": {},
   "outputs": [],
   "source": [
    "fire_map = create_map(\n",
    "    FIRE_NAME, prob, choice,\n",
    "    seed=SEED,\n",
    "    zoom=5,\n",
    "    cluster=True,\n",
    "    minimap=False\n",
    ")"
   ]
  },
  {
   "cell_type": "markdown",
   "metadata": {},
   "source": [
    "The main advantage of notebooks is that we can also display the map in a cell, instead of in the browser:"
   ]
  },
  {
   "cell_type": "code",
   "execution_count": null,
   "metadata": {},
   "outputs": [],
   "source": [
    "fire_map"
   ]
  },
  {
   "cell_type": "markdown",
   "metadata": {},
   "source": [
    "**Please note** that if you choose the option `cluster=False`, the markers will not appear in the saved file. They only appear when you add a cluster to the map. Moreover, the legend of land cover types will not appear either. Refer to the `get_legend` function inside the [utils.plot_map](utils/plot_map.py) file for more information."
   ]
  },
  {
   "cell_type": "code",
   "execution_count": null,
   "metadata": {},
   "outputs": [],
   "source": [
    "save_map(fire_map, FIRE_NAME, OUTPUT_MAPS, wind=False)\n",
    "open_map(OUTPUT_MAPS, wind=False)"
   ]
  },
  {
   "cell_type": "markdown",
   "metadata": {},
   "source": [
    "<a name=\"wind-data\"></a>\n",
    "# Wind Data"
   ]
  },
  {
   "cell_type": "code",
   "execution_count": null,
   "metadata": {},
   "outputs": [],
   "source": [
    "import utils.wind_data as wind\n",
    "from ipyleaflet import basemaps, basemap_to_tiles"
   ]
  },
  {
   "cell_type": "code",
   "execution_count": null,
   "metadata": {},
   "outputs": [],
   "source": [
    "year = WILDFIRE_DATE.strftime('%Y')\n",
    "month = WILDFIRE_DATE.strftime('%m')\n",
    "day = WILDFIRE_DATE.strftime('%d')\n",
    "hours = ['12:00']\n",
    "center = (LATITUDE, LONGITUDE)"
   ]
  },
  {
   "cell_type": "code",
   "execution_count": null,
   "metadata": {},
   "outputs": [],
   "source": [
    "output_file = wind.retrieve_wind_data(FIRE_NAME, year, month, day, hours)\n",
    "print('Output file:', output_file)"
   ]
  },
  {
   "cell_type": "code",
   "execution_count": null,
   "metadata": {},
   "outputs": [],
   "source": [
    "ds = wind.open_nc_data(output_file)\n",
    "print(ds)"
   ]
  },
  {
   "cell_type": "code",
   "execution_count": null,
   "metadata": {},
   "outputs": [],
   "source": [
    "ds = wind.reshape_data(ds)"
   ]
  },
  {
   "cell_type": "markdown",
   "metadata": {},
   "source": [
    "<a name=\"wind-map\"></a>\n",
    "## Create wind map"
   ]
  },
  {
   "cell_type": "code",
   "execution_count": null,
   "metadata": {},
   "outputs": [],
   "source": [
    "wind_map = wind.create_map(\n",
    "    ds, center, choice,\n",
    "    zoom=5,\n",
    "    # basemap=basemaps.CartoDB.DarkMatter,\n",
    "    basemap=basemaps.Esri.WorldImagery\n",
    ")"
   ]
  },
  {
   "cell_type": "code",
   "execution_count": null,
   "metadata": {},
   "outputs": [],
   "source": [
    "wind_map"
   ]
  },
  {
   "cell_type": "markdown",
   "metadata": {},
   "source": [
    "You can execute the next cell to add a layer to the map, which will automatically update. More basemaps are available here: https://ipyleaflet.readthedocs.io/en/latest/api_reference/basemaps.html."
   ]
  },
  {
   "cell_type": "code",
   "execution_count": null,
   "metadata": {},
   "outputs": [],
   "source": [
    "# add a basemap as layer\n",
    "# m.add_layer(basemap_to_tiles(basemaps.Esri.WorldImagery))\n",
    "wind_map.add_layer(basemap_to_tiles(basemaps.CartoDB.DarkMatter))"
   ]
  },
  {
   "cell_type": "code",
   "execution_count": null,
   "metadata": {},
   "outputs": [],
   "source": [
    "save_map(wind_map, FIRE_NAME, OUTPUT_MAPS, wind=True)\n",
    "open_map(OUTPUT_MAPS, wind=True)"
   ]
  },
  {
   "cell_type": "code",
   "execution_count": null,
   "metadata": {},
   "outputs": [],
   "source": []
  }
 ],
 "metadata": {
  "interpreter": {
   "hash": "55b03f22f5ba085f7d66bc3e0c9ceacb024f6f488acd55b094b0b566b1975ec0"
  },
  "kernelspec": {
   "display_name": "Python 3 (ipykernel)",
   "language": "python",
   "name": "python3"
  },
  "language_info": {
   "codemirror_mode": {
    "name": "ipython",
    "version": 3
   },
   "file_extension": ".py",
   "mimetype": "text/x-python",
   "name": "python",
   "nbconvert_exporter": "python",
   "pygments_lexer": "ipython3",
   "version": "3.8.12"
  },
  "toc": {
   "base_numbering": 1,
   "nav_menu": {},
   "number_sections": true,
   "sideBar": true,
   "skip_h1_title": false,
   "title_cell": "Table of Contents",
   "title_sidebar": "Contents",
   "toc_cell": false,
   "toc_position": {},
   "toc_section_display": true,
   "toc_window_display": false
  },
  "varInspector": {
   "cols": {
    "lenName": 16,
    "lenType": 16,
    "lenVar": 40
   },
   "kernels_config": {
    "python": {
     "delete_cmd_postfix": "",
     "delete_cmd_prefix": "del ",
     "library": "var_list.py",
     "varRefreshCmd": "print(var_dic_list())"
    },
    "r": {
     "delete_cmd_postfix": ") ",
     "delete_cmd_prefix": "rm(",
     "library": "var_list.r",
     "varRefreshCmd": "cat(var_dic_list()) "
    }
   },
   "types_to_exclude": [
    "module",
    "function",
    "builtin_function_or_method",
    "instance",
    "_Feature"
   ],
   "window_display": false
  }
 },
 "nbformat": 4,
 "nbformat_minor": 2
}
