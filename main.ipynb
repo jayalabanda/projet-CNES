{
 "cells": [
  {
   "cell_type": "markdown",
   "metadata": {},
   "source": [
    "# Table of contents\n",
    "1. [Setup](#setup)\n",
    "    1. [Imports](#imports)\n",
    "    2. [File constants](#file-constants)\n",
    "    3. [Wildfire information](#wildfire-info)\n",
    "    4. [File constants](#file-constants)\n",
    "2. [Data Collection](#data-collection)\n",
    "3. [Image Processing](#image-processing)\n",
    "    1. [Wildifre area](#wildfire-area)\n",
    "    2. [Morphology](#morphology)\n",
    "4. [Land Cover Classification](#land-cover-classification)\n",
    "    1. [Land Cover Datasets](#land-cover-datasets)\n",
    "    2. [Folium map](#folium-map)"
   ]
  },
  {
   "cell_type": "markdown",
   "metadata": {},
   "source": [
    "<a name=\"setup\"></a>\n",
    "## Setup\n",
    "\n",
    "<a name=\"imports\"></a>\n",
    "### Imports"
   ]
  },
  {
   "cell_type": "code",
   "execution_count": null,
   "metadata": {},
   "outputs": [],
   "source": [
    "import datetime as dt\n",
    "import json\n",
    "import os\n",
    "\n",
    "import ee\n",
    "import matplotlib.pyplot as plt\n",
    "import numpy as np\n",
    "import seaborn as sns\n",
    "\n",
    "from sentinelsat import SentinelAPI\n",
    "from skimage.morphology import area_closing\n",
    "\n",
    "import utils.data_collection as dc\n",
    "import utils.image_processing as ip\n",
    "import utils.land_coverage as land_c\n",
    "import utils.plot_folium as pf"
   ]
  },
  {
   "cell_type": "markdown",
   "metadata": {},
   "source": [
    "In order to use Google's Earth Engine API, you must create a (free) account at [Earth Engine API](https://developers.google.com/earth-engine) and then authenticate once. Your token will be saved so you will not need to do it again anymore."
   ]
  },
  {
   "cell_type": "code",
   "execution_count": null,
   "metadata": {},
   "outputs": [],
   "source": [
    "while True:\n",
    "    try:\n",
    "        authenticated = input(\"Authenticate with Earth Engine? (y/n): \")\n",
    "        if authenticated == \"y\":\n",
    "            ee.Authenticate()\n",
    "            break\n",
    "        elif authenticated == \"n\":\n",
    "            break\n",
    "        else:\n",
    "            raise ValueError(\"Invalid input\")\n",
    "    except ValueError:\n",
    "        print(\"Please enter 'y' or 'n'.\")\n",
    "ee.Initialize()"
   ]
  },
  {
   "cell_type": "markdown",
   "metadata": {},
   "source": [
    "Input the name of the location where the wildfire occurred. Examples are:\n",
    "* Istres\n",
    "* Montguers\n",
    "* etc."
   ]
  },
  {
   "cell_type": "code",
   "execution_count": null,
   "metadata": {},
   "outputs": [],
   "source": [
    "# Name of the place where the fire is located\n",
    "try:\n",
    "    FIRE_NAME = input(\"Name of the fire: \").lower()\n",
    "except ValueError:\n",
    "    print(\"Please enter a valid name.\")\n",
    "\n",
    "# Folder where the JP2 images will be stored\n",
    "PATH = f'data/{FIRE_NAME}/'\n",
    "# Path to the folders where the TIFF, PNG, and GIF files will be stored\n",
    "OUTPUT_FOLDER = f\"output/{FIRE_NAME}/\""
   ]
  },
  {
   "cell_type": "markdown",
   "metadata": {},
   "source": [
    "<a name=\"wildfire-info\"></a>\n",
    "### Wildfire information\n",
    "\n",
    "Some previous information is needed to execute this notebook. This information includes:\n",
    "* the date of the wildfire in format `YYYY-MM-DD`\n",
    "* a pair of coordinates _latitude_ and _longitude_ inside the wildfire, such as $44.5, 4.0$\n",
    "* the true area that burned in hectares. This value is easily retrievable in the news\n",
    "\n",
    "This information must be saved in a JSON file saved as `info_NAME.json`:\n",
    "\n",
    "{\n",
    "    \"wildifire_date\": \"YYYY-MM-DD\",\n",
    "    \"longitude\": XX.XX,\n",
    "    \"latitude\": YY.YY,\n",
    "    \"true_area\": ZZ.ZZ\n",
    "}\n",
    "\n",
    "where the latitude, longitude, and true area are floats (without the \"\"). An example is given inside [info_var.json](data/info_var.json).\n",
    "\n",
    "_Note: the name field is not necessary but is given for clarification._"
   ]
  },
  {
   "cell_type": "code",
   "execution_count": null,
   "metadata": {},
   "outputs": [],
   "source": [
    "with open(f\"data/info_{FIRE_NAME}.json\") as f:\n",
    "    fire_info = json.load(f)\n",
    "\n",
    "# Date of the fire\n",
    "WILDFIRE_DATE = dt.datetime.strptime(fire_info[\"wildfire_date\"], \"%Y-%m-%d\")\n",
    "# Coordinates of the fire\n",
    "LATITUDE, LONGITUDE = fire_info[\"latitude\"], fire_info[\"longitude\"]\n",
    "# Actual area in hectares that burned. We retrieved the area on the news\n",
    "TRUE_AREA = fire_info[\"true_area\"]"
   ]
  },
  {
   "cell_type": "markdown",
   "metadata": {},
   "source": [
    "The GeoJSON file format is a special type of file storing geospatial data, in a similar format to JSON files. More in-depth information is available at [ArcGIS Online](https://doc.arcgis.com/en/arcgis-online/reference/geojson.htm).\n",
    "\n",
    "A step-by-step guide to creating a GeoJSON file for an area of interest is given inside the [instructions guide](INSTRUCTIONS.md).\n",
    "\n",
    "Moreover, you will need an (also free) Copernicus Open Access Hub account [here](https://sentinelsat.readthedocs.io/en/latest/index.html). Then save your credentials in a JSON file inside the _secrets_ folder named `sentinel_api_credentials.json`:\n",
    "\n",
    "{\n",
    "    \"username\": \"YOUR_USERNAME\",\n",
    "    \"password\": \"YOUR_PASSWORD\"\n",
    "}."
   ]
  },
  {
   "cell_type": "code",
   "execution_count": null,
   "metadata": {},
   "outputs": [],
   "source": [
    "# Path to the GeoJSON file\n",
    "GEOJSON_PATH = f\"data/geojson_files/{FIRE_NAME}.geojson\"\n",
    "# Path to the JSON file where the Sentinel API credentials are stored\n",
    "CREDENTIALS_PATH = \"secrets/sentinel_api_credentials.json\""
   ]
  },
  {
   "cell_type": "markdown",
   "metadata": {},
   "source": [
    "<a name=\"file-constants\"></a>\n",
    "### File constants\n",
    "\n",
    "* Observation interval:\n",
    "<p>The observation interval is somewhat arbitrary, but longer ranges allow us to retrieve more images, since they are taken every 5 days. Furthermore, the burned area is visible for a few weeks, even months, after the fire started.</p>\n",
    "\n",
    "* Resolution:\n",
    "<p>As of right now, we only use the <i>NDVI</i> of an image for the processing steps. The necessary bands, <code>B08</code> (near-infrared) and <code>B04</code> (red) are available at all resolutions (10, 20, and 60) but for better results we use 10.\n",
    "Other indexes, such as <i>SWIR</i>, need resolutions 20 or 60 but are not yet implemented.</p>\n",
    "\n",
    "* Cloud threshold:\n",
    "<p>We only retrieve the images below this threshold, because otherwise they are mostly no-data images or yield no valuable results.</p>\n",
    "\n",
    "* Thresholds:\n",
    "<p>After calculating the difference in NDVI, we reduce the \"noise\" of the image by thresholding the values. All values below the threshold are set to 0, so that the burned area stands out.</p>\n",
    "\n",
    "* Samples:\n",
    "<p>After retrieving the land cover data, we use sample coordinates to create the pie charts.</p>"
   ]
  },
  {
   "cell_type": "code",
   "execution_count": null,
   "metadata": {},
   "outputs": [],
   "source": [
    "# Number of days both before and after the fire to get images\n",
    "OBSERVATION_INTERVAL = 15\n",
    "# Resolution of the images (10m, 20m, or 60m)\n",
    "RESOLUTION = 10\n",
    "# Threshold for the cloud cover (between 0 and 100)\n",
    "CLOUD_THRESHOLD = 40\n",
    "# Seed for random number generator (for reproductibility)\n",
    "SEED = 42\n",
    "# Threshold values for calculating the area that burned\n",
    "THRESHOLDS = np.arange(0.1, 0.41, 0.02)\n",
    "# Number of coordinates to use for the pie charts\n",
    "SAMPLES = np.arange(50, 251, 50)"
   ]
  },
  {
   "cell_type": "markdown",
   "metadata": {},
   "source": [
    "<a name=\"data-collection\"></a>\n",
    "## Data Collection"
   ]
  },
  {
   "cell_type": "code",
   "execution_count": null,
   "metadata": {},
   "outputs": [],
   "source": [
    "with open(CREDENTIALS_PATH, 'r') as infile:\n",
    "    credentials = json.load(infile)\n",
    "\n",
    "api = SentinelAPI(\n",
    "    credentials[\"username\"],\n",
    "    credentials[\"password\"]\n",
    ")"
   ]
  },
  {
   "cell_type": "code",
   "execution_count": null,
   "metadata": {},
   "outputs": [],
   "source": [
    "exists = os.path.exists(PATH)\n",
    "if not exists:\n",
    "    os.makedirs(PATH)"
   ]
  },
  {
   "cell_type": "markdown",
   "metadata": {},
   "source": [
    "This is the main function that retrieves and downloads the relevant images. You may get the error __Product ... is not online. Triggering retrieval from long term archive__, specially with older images. Unfortunately, the only solution we have found is to wait for 15-30 minutes (maybe more) and then try again.\n",
    "\n",
    "Another error, __NullPointerException__ may occur, but the solution is the same: try again after a few minutes."
   ]
  },
  {
   "cell_type": "code",
   "execution_count": null,
   "metadata": {},
   "outputs": [],
   "source": [
    "if not dc.check_downloaded_data(PATH, OUTPUT_FOLDER, FIRE_NAME):\n",
    "    try:\n",
    "        dc.get_before_after_images(\n",
    "            api=api,\n",
    "            wildfire_date=WILDFIRE_DATE,\n",
    "            geojson_path=GEOJSON_PATH,\n",
    "            observation_interval=OBSERVATION_INTERVAL,\n",
    "            path=PATH,\n",
    "            fire_name=FIRE_NAME,\n",
    "            output_folder=OUTPUT_FOLDER,\n",
    "            resolution=RESOLUTION,\n",
    "            cloud_threshold=CLOUD_THRESHOLD\n",
    "        )\n",
    "    except Exception as e:\n",
    "        print(e)\n",
    "        exit()"
   ]
  },
  {
   "cell_type": "code",
   "execution_count": null,
   "metadata": {},
   "outputs": [],
   "source": [
    "ip.plot_downloaded_images(FIRE_NAME, OUTPUT_FOLDER)"
   ]
  },
  {
   "cell_type": "markdown",
   "metadata": {},
   "source": [
    "<a name=\"image-processing\"></a>\n",
    "## Image Processing\n",
    "\n",
    "The first step here is to retrieve the location of the fire inside the produced NDVI image. Instead of doing this manually, we can transform the coordinates from the JSON info file into pixel values. Then, we plot the pixels inside the image."
   ]
  },
  {
   "cell_type": "code",
   "execution_count": null,
   "metadata": {},
   "outputs": [],
   "source": [
    "img_folder = PATH + os.listdir(PATH)[1] + '/'\n",
    "pixel_column, pixel_row = ip.get_fire_pixels(\n",
    "    img_folder, LATITUDE, LONGITUDE\n",
    ")"
   ]
  },
  {
   "cell_type": "code",
   "execution_count": null,
   "metadata": {},
   "outputs": [],
   "source": [
    "print(f'The fire is located at pixels ({pixel_column}, {pixel_row})\\n')"
   ]
  },
  {
   "cell_type": "code",
   "execution_count": null,
   "metadata": {},
   "outputs": [],
   "source": [
    "diff = dc.plot_ndvi_difference(\n",
    "    OUTPUT_FOLDER, FIRE_NAME, figsize=(10, 10)\n",
    ")\n",
    "plt.plot(pixel_column, pixel_row, 'ro',\n",
    "         markersize=3, label='Fire Location')\n",
    "plt.legend()\n",
    "plt.show()"
   ]
  },
  {
   "cell_type": "markdown",
   "metadata": {},
   "source": [
    "Next, we ask the user to give pixel values to add lines to the image to zoom-in on the area of interest. We have explored methods to do this manually but we have not been successful for now."
   ]
  },
  {
   "cell_type": "code",
   "execution_count": null,
   "metadata": {},
   "outputs": [],
   "source": [
    "fire, hline_1, vline_1 = ip.retrieve_fire_area(\n",
    "    diff, pixel_column, pixel_row, 'Fire Area'\n",
    ")"
   ]
  },
  {
   "cell_type": "markdown",
   "metadata": {},
   "source": [
    "<a name=\"wildifre-area\"></a>\n",
    "### Wildfire area\n",
    "\n",
    "Here we calculate the area that burned thanks to the differnce in NDVI and we plot the results, along with the true value. This helps us to validate our functions."
   ]
  },
  {
   "cell_type": "code",
   "execution_count": null,
   "metadata": {},
   "outputs": [],
   "source": [
    "areas = []\n",
    "for thr in THRESHOLDS:\n",
    "    tmp = ip.threshold_filter(fire, thr)\n",
    "    area = round(ip.calculate_area(tmp, diff) * 100, 4)\n",
    "    areas.append(area)"
   ]
  },
  {
   "cell_type": "code",
   "execution_count": null,
   "metadata": {},
   "outputs": [],
   "source": [
    "print(f'The true area that burned is {TRUE_AREA} hectares.\\n')"
   ]
  },
  {
   "cell_type": "code",
   "execution_count": null,
   "metadata": {},
   "outputs": [],
   "source": [
    "plt.figure(figsize=(8, 6))\n",
    "with sns.axes_style('darkgrid'):\n",
    "    plt.plot(THRESHOLDS, areas)\n",
    "    plt.hlines(TRUE_AREA, THRESHOLDS[0], THRESHOLDS[-1],\n",
    "               colors='r', linestyles='dashed')\n",
    "    plt.xlabel('Threshold')\n",
    "    plt.ylabel('Burnt Area (ha)')\n",
    "    plt.title('Fire Area')\n",
    "    plt.legend(['Calculated Area', 'True Value'])\n",
    "    plt.show()"
   ]
  },
  {
   "cell_type": "code",
   "execution_count": null,
   "metadata": {},
   "outputs": [],
   "source": [
    "while True:\n",
    "    threshold = float(input('Enter a threshold value between -1 and 1: '))\n",
    "    try:\n",
    "        if -1 <= threshold <= 1:\n",
    "            break\n",
    "        else:\n",
    "            print('Please enter a value between -1 and 1.')\n",
    "    except ValueError:\n",
    "        print('Please enter a valid number.')\n",
    "\n",
    "fire = ip.threshold_filter(fire, threshold)\n",
    "plt.figure(figsize=(8, 6))\n",
    "ip.imshow(tmp, 'Thresholded Fire')\n",
    "plt.show()"
   ]
  },
  {
   "cell_type": "code",
   "execution_count": null,
   "metadata": {},
   "outputs": [],
   "source": [
    "print('Area:', round(ip.calculate_area(fire, diff) * 100, 4), 'ha.')"
   ]
  },
  {
   "cell_type": "markdown",
   "metadata": {},
   "source": [
    "<a name=\"morphology\"></a>\n",
    "### Morphology\n",
    "\n",
    "Finally, for the image processing part, we use mathematical morphology to slighlty improve the quality of the image. More details are available [here](https://scikit-image.org/docs/stable/api/skimage.morphology.html)."
   ]
  },
  {
   "cell_type": "code",
   "execution_count": null,
   "metadata": {},
   "outputs": [],
   "source": [
    "closed = area_closing(fire)\n",
    "ip.plot_comparison(fire, closed, 'Area Closing')"
   ]
  },
  {
   "cell_type": "code",
   "execution_count": null,
   "metadata": {},
   "outputs": [],
   "source": [
    "print('Area after morphology:', round(ip.calculate_area(closed, diff) * 100, 4), 'ha.')"
   ]
  },
  {
   "cell_type": "markdown",
   "metadata": {},
   "source": [
    "<a name=\"land-cover-classification\"></a>\n",
    "## Land Cover Classification\n",
    "\n",
    "<a name=\"land-cover-datasets\"></a>\n",
    "### Land cover datasets\n",
    "\n",
    "The next step consists in retrieving information on the type of land that was affected by the fire, such as crops or forests. Multiple datasets are available from Earth Engine's catalog. They use different resolutions and time ranges. The ones we use are:\n",
    "* [MODIS Land Cover](https://developers.google.com/earth-engine/datasets/catalog/MODIS_006_MCD12Q1?hl=en) _(2018, 500m)_\n",
    "* [ESA World Cover](https://developers.google.com/earth-engine/datasets/catalog/ESA_WorldCover_v100) _(2020, 10m)_\n",
    "* [Copernicus Global Land Service](https://developers.google.com/earth-engine/datasets/catalog/COPERNICUS_Landcover_100m_Proba-V-C3_Global) _(2019, 100m)_\n",
    "* [Copernicus CORINE Land Cover](https://developers.google.com/earth-engine/datasets/catalog/COPERNICUS_CORINE_V20_100m) _(2018, 100m)_"
   ]
  },
  {
   "cell_type": "code",
   "execution_count": null,
   "metadata": {},
   "outputs": [],
   "source": [
    "while True:\n",
    "    try:\n",
    "        prob = input(\n",
    "            r'Enter sample percentage to use for land cover classification: '\n",
    "        )\n",
    "        p = float(p) / 100\n",
    "        if 0 < p <= 1:\n",
    "            break\n",
    "        else:\n",
    "            print('Please enter a value between 0 and 100.')\n",
    "    except ValueError:\n",
    "        print('Please enter a valid number.')\n",
    "\n",
    "rand_image = land_c.create_sample_coordinates(fire, SEED, prob)\n",
    "ip.imshow(rand_image, 'Sampled Coordinates')\n",
    "plt.show()"
   ]
  },
  {
   "cell_type": "markdown",
   "metadata": {},
   "source": [
    "Conversely, we can transform pixel values from the image into coordinates."
   ]
  },
  {
   "cell_type": "code",
   "execution_count": null,
   "metadata": {},
   "outputs": [],
   "source": [
    "coordinates = land_c.get_coordinates_from_pixels(\n",
    "    rand_image, hline_1, vline_1, img_folder, FIRE_NAME\n",
    ")"
   ]
  },
  {
   "cell_type": "code",
   "execution_count": null,
   "metadata": {},
   "outputs": [],
   "source": [
    "output_folder = f\"output/pie_chart_{FIRE_NAME}/\"\n",
    "exists = os.path.exists(output_folder)\n",
    "if not exists:\n",
    "    os.makedirs(output_folder)\n",
    "is_empty = not any(os.scandir(output_folder))"
   ]
  },
  {
   "cell_type": "markdown",
   "metadata": {},
   "source": [
    "After asking the user for a land cover dataset, we create a GIF file from the pie charts, to see the evolution of land cover information we obtain."
   ]
  },
  {
   "cell_type": "code",
   "execution_count": null,
   "metadata": {},
   "outputs": [],
   "source": [
    "choice = land_c.get_choice()"
   ]
  },
  {
   "cell_type": "code",
   "execution_count": null,
   "metadata": {},
   "outputs": [],
   "source": [
    "if exists and is_empty or not exists:\n",
    "    land_c.create_plots(\n",
    "        samples=SAMPLES,\n",
    "        coordinates=coordinates,\n",
    "        choice=choice,\n",
    "        seed=SEED,\n",
    "        fire_name=FIRE_NAME,\n",
    "        out_folder=output_folder,\n",
    "        save_fig=True\n",
    "    )"
   ]
  },
  {
   "cell_type": "code",
   "execution_count": null,
   "metadata": {},
   "outputs": [],
   "source": [
    "land_c.make_pie_chart_gif(\n",
    "    fire_name=FIRE_NAME,\n",
    "    file_path=output_folder,\n",
    "    save_all=True,\n",
    "    duration=500,\n",
    "    loop=0\n",
    ")"
   ]
  },
  {
   "cell_type": "markdown",
   "metadata": {},
   "source": [
    "<a name=\"folium-map\"></a>\n",
    "### Create folium map\n",
    "\n",
    "Finally, we create an interactive map using `folium` to visualize the coordinates of the fire in a Google Satellite map, also adding the land cover layer. Then we open the produced GIF."
   ]
  },
  {
   "cell_type": "code",
   "execution_count": null,
   "metadata": {},
   "outputs": [],
   "source": [
    "while True:\n",
    "    try:\n",
    "        prob = float(input('Value between 0 and 100: ')) / 100\n",
    "        if 0 < p <= 1:\n",
    "            break\n",
    "        else:\n",
    "            raise ValueError\n",
    "    except ValueError:\n",
    "        print('Please enter a valid number.')\n",
    "\n",
    "fire_map = pf.create_map(FIRE_NAME, prob, SEED, choice)"
   ]
  },
  {
   "cell_type": "code",
   "execution_count": null,
   "metadata": {},
   "outputs": [],
   "source": [
    "output_maps = \"output/maps/\"\n",
    "if not os.path.exists(output_maps):\n",
    "    os.makedirs(output_maps)\n",
    "\n",
    "pf.save_map(fire_map, FIRE_NAME, output_maps)\n",
    "pf.open_map(FIRE_NAME, output_maps)"
   ]
  },
  {
   "cell_type": "code",
   "execution_count": null,
   "metadata": {},
   "outputs": [],
   "source": [
    "land_c.open_gif(FIRE_NAME, output_folder)"
   ]
  },
  {
   "cell_type": "markdown",
   "metadata": {},
   "source": [
    "<a name=\"wind-data\"></a>\n",
    "## Wind Data"
   ]
  },
  {
   "cell_type": "code",
   "execution_count": null,
   "metadata": {},
   "outputs": [],
   "source": []
  }
 ],
 "metadata": {
  "interpreter": {
   "hash": "55b03f22f5ba085f7d66bc3e0c9ceacb024f6f488acd55b094b0b566b1975ec0"
  },
  "kernelspec": {
   "display_name": "Python 3.9.7 64-bit ('env_cnes': conda)",
   "language": "python",
   "name": "python3"
  },
  "language_info": {
   "codemirror_mode": {
    "name": "ipython",
    "version": 3
   },
   "file_extension": ".py",
   "mimetype": "text/x-python",
   "name": "python",
   "nbconvert_exporter": "python",
   "pygments_lexer": "ipython3",
   "version": "3.9.7"
  },
  "orig_nbformat": 4
 },
 "nbformat": 4,
 "nbformat_minor": 2
}
