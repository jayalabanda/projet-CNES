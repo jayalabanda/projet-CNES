{
 "cells": [
  {
   "cell_type": "code",
   "execution_count": null,
   "metadata": {},
   "outputs": [],
   "source": [
    "import ee\n",
    "import matplotlib.pyplot as plt\n",
    "import numpy as np\n",
    "import pandas as pd\n",
    "\n",
    "import utils.image_processing as ip\n",
    "import utils.land_coverage as lc\n",
    "\n",
    "ee.Initialize()"
   ]
  },
  {
   "cell_type": "code",
   "execution_count": null,
   "metadata": {},
   "outputs": [],
   "source": [
    "lat, lon = 44.302649, 5.505659\n",
    "img_folder = 'data/S2A_MSIL2A_20200815T104031_N0214_R008_T31TFK_20200815T115046.SAFE/'\n",
    "\n",
    "pixel_column, pixel_row = ip.get_fire_pixels(img_folder, lat, lon)"
   ]
  },
  {
   "cell_type": "code",
   "execution_count": null,
   "metadata": {},
   "outputs": [],
   "source": [
    "diff = ip.plot_ndvi_difference('./output/', 'montguers')\n",
    "plt.plot(pixel_column, pixel_row, 'ro', markersize=3)\n",
    "plt.show()"
   ]
  },
  {
   "cell_type": "code",
   "execution_count": null,
   "metadata": {},
   "outputs": [],
   "source": [
    "frag_count = 15\n",
    "split = ip.split_image(diff, frag_count)\n",
    "\n",
    "ip.plot_split_image(split, frag_count)\n",
    "plt.tight_layout()\n",
    "plt.show()"
   ]
  },
  {
   "cell_type": "code",
   "execution_count": null,
   "metadata": {},
   "outputs": [],
   "source": [
    "fire = ip.merge_images(2, [split[(13, 12)], split[(14, 12)]])\n",
    "ip.imshow(fire, 'Montguers Fire')\n",
    "plt.show()"
   ]
  },
  {
   "cell_type": "code",
   "execution_count": null,
   "metadata": {},
   "outputs": [],
   "source": [
    "thresholds = np.arange(0.1, 0.31, 0.02)\n",
    "areas = []\n",
    "for thr in thresholds:\n",
    "    tmp = ip.threshold_filter(fire, thr)\n",
    "    area = round(ip.calculate_area(tmp, diff) * 100, 4)\n",
    "    areas.append(area)"
   ]
  },
  {
   "cell_type": "code",
   "execution_count": null,
   "metadata": {},
   "outputs": [],
   "source": [
    "true_area = 289.39\n",
    "\n",
    "plt.figure(figsize=(8, 6))\n",
    "plt.plot(thresholds, areas)\n",
    "plt.hlines(true_area, thresholds[0], thresholds[-1], colors='r', linestyles='dashed')\n",
    "plt.xlabel('Threshold')\n",
    "plt.ylabel('Burnt Area (ha)')\n",
    "plt.title('Montguers Fire')\n",
    "plt.legend(['Calculated', 'True Value'])\n",
    "plt.show()"
   ]
  },
  {
   "cell_type": "code",
   "execution_count": null,
   "metadata": {},
   "outputs": [],
   "source": [
    "from skimage.morphology import dilation, square\n",
    "\n",
    "footprint = square(3)\n",
    "dilated = dilation(tmp, footprint)\n",
    "ip.plot_comparison(tmp, dilated, 'Dilation')\n",
    "\n",
    "print(round(ip.calculate_area(dilated, diff) * 100, 4), 'ha')"
   ]
  },
  {
   "cell_type": "code",
   "execution_count": null,
   "metadata": {},
   "outputs": [],
   "source": [
    "v1 = 9700\n",
    "v2 = 10700\n",
    "delta_v = v2 - v1\n",
    "h1 = 8700\n",
    "h2 = h1 + delta_v"
   ]
  },
  {
   "cell_type": "code",
   "execution_count": null,
   "metadata": {},
   "outputs": [],
   "source": [
    "plt.figure(figsize=(12, 12))\n",
    "plt.imshow(diff)\n",
    "plt.vlines(v1, 0, diff.shape[0], color='r', linestyle='dashed', linewidth=1)\n",
    "plt.vlines(v2, 0, diff.shape[0], color='r', linestyle='dashed', linewidth=1)\n",
    "plt.hlines(h1, 0, diff.shape[1], color='r', linestyle='dashed', linewidth=1)\n",
    "plt.hlines(h2, 0, diff.shape[1], color='r', linestyle='dashed', linewidth=1)\n",
    "plt.tight_layout()\n",
    "plt.show()"
   ]
  },
  {
   "cell_type": "code",
   "execution_count": null,
   "metadata": {},
   "outputs": [],
   "source": [
    "fire = diff[h1:h2, v1:v2]\n",
    "plt.imshow(fire)\n",
    "plt.axis('off')\n",
    "plt.savefig('./output/fire_var.png')\n",
    "plt.show()"
   ]
  },
  {
   "cell_type": "code",
   "execution_count": null,
   "metadata": {},
   "outputs": [],
   "source": [
    "fire = ip.threshold_filter(fire, 0.15)\n",
    "plt.imshow(fire)\n",
    "plt.show()"
   ]
  },
  {
   "cell_type": "code",
   "execution_count": null,
   "metadata": {},
   "outputs": [],
   "source": [
    "rand_image = lc.create_sample_coordinates(fire, 42, 0.1)\n",
    "ip.imshow(rand_image, 'Sampled Coordinates')\n",
    "plt.show()"
   ]
  },
  {
   "cell_type": "code",
   "execution_count": null,
   "metadata": {},
   "outputs": [],
   "source": [
    "coordinates = lc.get_coordinates_from_pixels(rand_image, h1, v1, img_folder)\n",
    "coordinates[:5]"
   ]
  },
  {
   "cell_type": "code",
   "execution_count": null,
   "metadata": {},
   "outputs": [],
   "source": [
    "coordinates = pd.DataFrame(coordinates, columns=['latitude', 'longitude'])\n",
    "coordinates.to_csv('data/coords_utm_montguers.csv', index=False)\n",
    "coordinates.head()"
   ]
  },
  {
   "cell_type": "code",
   "execution_count": null,
   "metadata": {},
   "outputs": [],
   "source": [
    "land_cover_data = pd.read_csv('data/MODIS_LandCover_Type1.csv')\n",
    "land_cover_data"
   ]
  },
  {
   "cell_type": "code",
   "execution_count": null,
   "metadata": {},
   "outputs": [],
   "source": [
    "samples = np.arange(50, 1001, 50)\n",
    "lc.create_plots(samples, coordinates, 42, land_cover_data,\n",
    "    fire_name='montguers',\n",
    "    out_folder='output/pie_chart_montguers/',\n",
    "    save_fig=True)"
   ]
  },
  {
   "cell_type": "code",
   "execution_count": null,
   "metadata": {},
   "outputs": [],
   "source": [
    "lc.make_pie_chart_gif(\n",
    "    'montguers', 'output/pie_chart_montguers/',\n",
    "    save_all=True, duration=500, loop=0)"
   ]
  },
  {
   "cell_type": "markdown",
   "metadata": {},
   "source": [
    "<img src=\"output/pie_chart_montguers/montguers.gif\" width=\"750\" align=\"center\">"
   ]
  },
  {
   "cell_type": "code",
   "execution_count": null,
   "metadata": {},
   "outputs": [],
   "source": []
  }
 ],
 "metadata": {
  "interpreter": {
   "hash": "55b03f22f5ba085f7d66bc3e0c9ceacb024f6f488acd55b094b0b566b1975ec0"
  },
  "kernelspec": {
   "display_name": "Python 3.9.7 64-bit ('env_cnes': conda)",
   "language": "python",
   "name": "python3"
  },
  "language_info": {
   "codemirror_mode": {
    "name": "ipython",
    "version": 3
   },
   "file_extension": ".py",
   "mimetype": "text/x-python",
   "name": "python",
   "nbconvert_exporter": "python",
   "pygments_lexer": "ipython3",
   "version": "3.9.7"
  },
  "orig_nbformat": 4
 },
 "nbformat": 4,
 "nbformat_minor": 2
}
