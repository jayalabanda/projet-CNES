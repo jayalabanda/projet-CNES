{
 "cells": [
  {
   "cell_type": "code",
   "execution_count": null,
   "metadata": {},
   "outputs": [],
   "source": [
    "import matplotlib.pyplot as plt\n",
    "import numpy as np\n",
    "from scipy import optimize\n",
    "import itertools\n",
    "\n",
    "import pandas as pd\n",
    "import rasterio\n",
    "import utm\n",
    "from IPython.display import Image\n",
    "import folium\n",
    "import utils\n",
    "\n",
    "import ee\n",
    "# ee.Authenticate()\n",
    "ee.Initialize()"
   ]
  },
  {
   "cell_type": "code",
   "execution_count": null,
   "metadata": {},
   "outputs": [],
   "source": [
    "# Import the MODIS land cover collection.\n",
    "lc = ee.ImageCollection('MODIS/006/MCD12Q1')\n",
    "\n",
    "# Import the MODIS land surface temperature collection.\n",
    "lst = ee.ImageCollection('MODIS/006/MOD11A1')\n",
    "\n",
    "# Import the USGS ground elevation image.\n",
    "elv = ee.Image('USGS/SRTMGL1_003')"
   ]
  },
  {
   "cell_type": "code",
   "execution_count": null,
   "metadata": {},
   "outputs": [],
   "source": [
    "# Initial date of interest (inclusive).\n",
    "i_date = '2021-08-17'\n",
    "\n",
    "# Final date of interest (exclusive).\n",
    "f_date = '2021-08-19'\n",
    "\n",
    "# Selection of appropriate bands and dates for LST.\n",
    "lst = lst.select('LST_Day_1km', 'QC_Day').filterDate(i_date, f_date)"
   ]
  },
  {
   "cell_type": "code",
   "execution_count": null,
   "metadata": {},
   "outputs": [],
   "source": [
    "# Define the urban location of interest as a point near Lyon, France.\n",
    "u_lon = 4.8148\n",
    "u_lat = 45.7758\n",
    "u_poi = ee.Geometry.Point(u_lon, u_lat)\n",
    "\n",
    "# Define the rural location of interest as a point away from the city.\n",
    "r_lon = 5.175964\n",
    "r_lat = 45.574064\n",
    "r_poi = ee.Geometry.Point(r_lon, r_lat)"
   ]
  },
  {
   "cell_type": "code",
   "execution_count": null,
   "metadata": {},
   "outputs": [],
   "source": [
    "scale = 1000  # scale in meters\n",
    "\n",
    "# Print the elevation near Lyon, France.\n",
    "elv_urban_point = elv.sample(u_poi, scale).first().get('elevation').getInfo()\n",
    "print('Ground elevation at urban point:', elv_urban_point, 'm')\n",
    "\n",
    "# Calculate and print the mean value of the LST collection at the point.\n",
    "lst_urban_point = lst.mean().sample(u_poi, scale).first().get('LST_Day_1km').getInfo()\n",
    "print('Average daytime LST at urban point:', round(lst_urban_point*0.02 -273.15, 2), '°C')\n",
    "\n",
    "# Print the land cover type at the point.\n",
    "lc_urban_point = lc.first().sample(u_poi, scale).first().get('LC_Type1').getInfo()\n",
    "print('Land cover value at urban point is:', lc_urban_point)"
   ]
  },
  {
   "cell_type": "code",
   "execution_count": null,
   "metadata": {},
   "outputs": [],
   "source": [
    "# Get the data for the pixel intersecting the point in urban area.\n",
    "lst_u_poi = lst.getRegion(u_poi, scale).getInfo()\n",
    "\n",
    "# Get the data for the pixel intersecting the point in rural area.\n",
    "lst_r_poi = lst.getRegion(r_poi, scale).getInfo()\n",
    "\n",
    "# Preview the result.\n",
    "lst_u_poi[:5]"
   ]
  },
  {
   "cell_type": "code",
   "execution_count": null,
   "metadata": {},
   "outputs": [],
   "source": [
    "def ee_array_to_df(arr, list_of_bands):\n",
    "    \"\"\"Transforms client-side ee.Image.getRegion array to pandas.DataFrame.\"\"\"\n",
    "    df = pd.DataFrame(arr)\n",
    "\n",
    "    # Rearrange the header.\n",
    "    headers = df.iloc[0]\n",
    "    df = pd.DataFrame(df.values[1:], columns=headers)\n",
    "\n",
    "    # Remove rows without data inside.\n",
    "    df = df[['longitude', 'latitude', 'time', *list_of_bands]].dropna()\n",
    "\n",
    "    # Convert the data to numeric values.\n",
    "    for band in list_of_bands:\n",
    "        df[band] = pd.to_numeric(df[band], errors='coerce')\n",
    "\n",
    "    # Convert the time field into a datetime.\n",
    "    df['datetime'] = pd.to_datetime(df['time'], unit='ms')\n",
    "\n",
    "    # Keep the columns of interest.\n",
    "    df = df[['time','datetime',  *list_of_bands]]\n",
    "\n",
    "    return df"
   ]
  },
  {
   "cell_type": "code",
   "execution_count": null,
   "metadata": {},
   "outputs": [],
   "source": [
    "lst_df_urban = ee_array_to_df(lst_u_poi, ['LST_Day_1km'])\n",
    "\n",
    "def t_modis_to_celsius(t_modis):\n",
    "    \"\"\"Converts MODIS LST units to degrees Celsius.\"\"\"\n",
    "    return 0.02 * t_modis - 273.15 # °C\n",
    "\n",
    "# Apply the function to get temperature in celsius.\n",
    "lst_df_urban['LST_Day_1km'] = lst_df_urban['LST_Day_1km'].apply(t_modis_to_celsius)\n",
    "\n",
    "# Do the same for the rural point.\n",
    "lst_df_rural = ee_array_to_df(lst_r_poi, ['LST_Day_1km'])\n",
    "lst_df_rural['LST_Day_1km'] = lst_df_rural['LST_Day_1km'].apply(t_modis_to_celsius)\n",
    "\n",
    "lst_df_urban.head()"
   ]
  },
  {
   "cell_type": "code",
   "execution_count": null,
   "metadata": {},
   "outputs": [],
   "source": [
    "# Fitting curves.\n",
    "## First, extract x values (times) from the dfs.\n",
    "x_data_u = np.asanyarray(lst_df_urban['time'].apply(float))  # urban\n",
    "x_data_r = np.asanyarray(lst_df_rural['time'].apply(float))  # rural\n",
    "\n",
    "## Secondly, extract y values (LST) from the dfs.\n",
    "y_data_u = np.asanyarray(lst_df_urban['LST_Day_1km'].apply(float))  # urban\n",
    "y_data_r = np.asanyarray(lst_df_rural['LST_Day_1km'].apply(float))  # rural\n",
    "\n",
    "## Then, define the fitting function with parameters.\n",
    "def fit_func(t, lst0, delta_lst, tau, phi):\n",
    "    return lst0 + (delta_lst / 2) * np.sin(2 * np.pi * t / tau + phi)\n",
    "\n",
    "## Optimize the parameters using a good start p0.\n",
    "lst0 = 20\n",
    "delta_lst = 40\n",
    "tau = 365 * 24 * 3600 * 1000   # milliseconds in a year\n",
    "phi = 2 * np.pi * 4 * 30.5 * 3600 * 1000 / tau  # offset regarding when we expect LST(t)=LST0\n",
    "\n",
    "params_u, params_covariance_u = optimize.curve_fit(\n",
    "    fit_func, x_data_u, y_data_u, p0=[lst0, delta_lst, tau, phi])\n",
    "params_r, params_covariance_r = optimize.curve_fit(\n",
    "    fit_func, x_data_r, y_data_r, p0=[lst0, delta_lst, tau, phi])\n",
    "\n",
    "# Subplots.\n",
    "fig, ax = plt.subplots(figsize=(14, 6))\n",
    "\n",
    "# Add scatter plots.\n",
    "ax.scatter(lst_df_urban['datetime'], lst_df_urban['LST_Day_1km'],\n",
    "           c='black', alpha=0.2, label='Urban (data)')\n",
    "ax.scatter(lst_df_rural['datetime'], lst_df_rural['LST_Day_1km'],\n",
    "           c='green', alpha=0.35, label='Rural (data)')\n",
    "\n",
    "# Add fitting curves.\n",
    "ax.plot(lst_df_urban['datetime'],\n",
    "        fit_func(x_data_u, params_u[0], params_u[1], params_u[2], params_u[3]),\n",
    "        label='Urban (fitted)', color='black', lw=2.5)\n",
    "ax.plot(lst_df_rural['datetime'],\n",
    "        fit_func(x_data_r, params_r[0], params_r[1], params_r[2], params_r[3]),\n",
    "        label='Rural (fitted)', color='green', lw=2.5)\n",
    "\n",
    "# Add some parameters.\n",
    "ax.set_title('Daytime Land Surface Temperature Near Lyon', fontsize=16)\n",
    "ax.set_xlabel('Date', fontsize=14)\n",
    "ax.set_ylabel('Temperature [C]', fontsize=14)\n",
    "ax.set_ylim(-0, 40)\n",
    "ax.grid(lw=0.2)\n",
    "ax.legend(fontsize=14, loc='lower right')\n",
    "\n",
    "plt.show()"
   ]
  },
  {
   "cell_type": "code",
   "execution_count": null,
   "metadata": {},
   "outputs": [],
   "source": [
    "# Define a region of interest with a buffer zone of 1000 km around Lyon.\n",
    "roi = u_poi.buffer(1e6)"
   ]
  },
  {
   "cell_type": "code",
   "execution_count": null,
   "metadata": {},
   "outputs": [],
   "source": [
    "# Reduce the LST collection by mean.\n",
    "lst_img = lst.mean()\n",
    "\n",
    "# Adjust for scale factor.\n",
    "lst_img = lst_img.select('LST_Day_1km').multiply(0.02)\n",
    "\n",
    "# Convert Kelvin to Celsius.\n",
    "lst_img = lst_img.select('LST_Day_1km').add(-273.15)"
   ]
  },
  {
   "cell_type": "code",
   "execution_count": null,
   "metadata": {},
   "outputs": [],
   "source": [
    "# Create a URL to the styled image for a region around France.\n",
    "url = lst_img.getThumbUrl({\n",
    "    'min': 10, 'max': 30, 'dimensions': 512, 'region': roi,\n",
    "    'palette': ['blue', 'yellow', 'orange', 'red']})\n",
    "print(url)\n",
    "\n",
    "# Display the thumbnail land surface temperature in France.\n",
    "print('\\nPlease wait while the thumbnail loads, it may take a moment...')\n",
    "Image(url=url)"
   ]
  },
  {
   "cell_type": "code",
   "execution_count": null,
   "metadata": {},
   "outputs": [],
   "source": [
    "# Make pixels with elevation below sea level transparent.\n",
    "elv_img = elv.updateMask(elv.gt(0))\n",
    "\n",
    "# Display the thumbnail of styled elevation in France.\n",
    "Image(url=elv_img.getThumbURL({\n",
    "    'min': 0, 'max': 2000, 'dimensions': 512, 'region': roi,\n",
    "    'palette': ['006633', 'E5FFCC', '662A00', 'D8D8D8', 'F5F5F5']}))"
   ]
  },
  {
   "cell_type": "code",
   "execution_count": null,
   "metadata": {},
   "outputs": [],
   "source": [
    "# Create a buffer zone of 10 km around Lyon.\n",
    "lyon = u_poi.buffer(10000)  # meters\n",
    "\n",
    "url = elv_img.getThumbUrl({\n",
    "    'min': 150, 'max': 350, 'region': lyon, 'dimensions': 512,\n",
    "    'palette': ['006633', 'E5FFCC', '662A00', 'D8D8D8', 'F5F5F5']})\n",
    "Image(url=url)"
   ]
  },
  {
   "cell_type": "code",
   "execution_count": null,
   "metadata": {},
   "outputs": [],
   "source": [
    "# Get a feature collection of administrative boundaries.\n",
    "countries = ee.FeatureCollection('FAO/GAUL/2015/level0').select('ADM0_NAME')\n",
    "\n",
    "# Filter the feature collection to subset France.\n",
    "france = countries.filter(ee.Filter.eq('ADM0_NAME', 'France'))\n",
    "\n",
    "# Clip the image by France.\n",
    "elv_fr = elv_img.clip(france)\n",
    "\n",
    "# Create the URL associated with the styled image data.\n",
    "url = elv_fr.getThumbUrl({\n",
    "    'min': 0, 'max': 2500, 'region': roi, 'dimensions': 512,\n",
    "    'palette': ['006633', 'E5FFCC', '662A00', 'D8D8D8', 'F5F5F5']})\n",
    "\n",
    "# Display a thumbnail of elevation in France.\n",
    "Image(url=url)"
   ]
  },
  {
   "cell_type": "code",
   "execution_count": null,
   "metadata": {},
   "outputs": [],
   "source": [
    "# Define the center of our map.\n",
    "lat, lon = 45.77, 4.855\n",
    "\n",
    "my_map = folium.Map(location=[lat, lon], zoom_start=10)\n",
    "my_map"
   ]
  },
  {
   "cell_type": "code",
   "execution_count": null,
   "metadata": {},
   "outputs": [],
   "source": [
    "def add_ee_layer(self, ee_image_object, vis_params, name):\n",
    "    \"\"\"Adds a method for displaying Earth Engine image tiles to folium map.\"\"\"\n",
    "    map_id_dict = ee.Image(ee_image_object).getMapId(vis_params)\n",
    "    folium.raster_layers.TileLayer(\n",
    "        tiles=map_id_dict['tile_fetcher'].url_format,\n",
    "        attr='Map Data &copy; <a href=\"https://earthengine.google.com/\">Google Earth Engine</a>',\n",
    "        name=name,\n",
    "        overlay=True,\n",
    "        control=True\n",
    "    ).add_to(self)\n",
    "\n",
    "# Add Earth Engine drawing method to folium.\n",
    "folium.Map.add_ee_layer = add_ee_layer"
   ]
  },
  {
   "cell_type": "code",
   "execution_count": null,
   "metadata": {},
   "outputs": [],
   "source": [
    "# Select a specific band and dates for land cover.\n",
    "lc_img = lc.select('LC_Type1').filterDate(i_date).first()\n",
    "\n",
    "# Set visualization parameters for land cover.\n",
    "lc_vis_params = {\n",
    "    'min': 1,'max': 17,\n",
    "    'palette': ['05450a','086a10', '54a708', '78d203', '009900', 'c6b044',\n",
    "                'dcd159', 'dade48', 'fbff13', 'b6ff05', '27ff87', 'c24f44',\n",
    "                'a5a5a5', 'ff6d4c', '69fff8', 'f9ffa4', '1c0dff']\n",
    "}\n",
    "\n",
    "# Create a map.\n",
    "lat, lon = 45.77, 4.855\n",
    "my_map = folium.Map(location=[lat, lon], zoom_start=7)\n",
    "\n",
    "# Add the land cover to the map object.\n",
    "my_map.add_ee_layer(lc_img, lc_vis_params, 'Land Cover')\n",
    "\n",
    "# Add a layer control panel to the map.\n",
    "my_map.add_child(folium.LayerControl())\n",
    "\n",
    "# Display the map.\n",
    "my_map"
   ]
  },
  {
   "cell_type": "code",
   "execution_count": null,
   "metadata": {},
   "outputs": [],
   "source": [
    "my_map.save('my_lc_interactive_map.html')"
   ]
  },
  {
   "cell_type": "code",
   "execution_count": null,
   "metadata": {},
   "outputs": [],
   "source": [
    "# Set visualization parameters for ground elevation.\n",
    "elv_vis_params = {\n",
    "    'min': 0, 'max': 4000,\n",
    "    'palette': ['006633', 'E5FFCC', '662A00', 'D8D8D8', 'F5F5F5']}\n",
    "\n",
    "# Set visualization parameters for land surface temperature.\n",
    "lst_vis_params = {\n",
    "    'min': 0, 'max': 40,\n",
    "    'palette': ['white', 'blue', 'green', 'yellow', 'orange', 'red']}\n",
    "\n",
    "# Arrange layers inside a list (elevation, LST and land cover).\n",
    "ee_tiles = [elv_img, lst_img, lc_img]\n",
    "\n",
    "# Arrange visualization parameters inside a list.\n",
    "ee_vis_params = [elv_vis_params, lst_vis_params, lc_vis_params]\n",
    "\n",
    "# Arrange layer names inside a list.\n",
    "ee_tiles_names = ['Elevation', 'Land Surface Temperature', 'Land Cover']\n",
    "\n",
    "# Create a new map.\n",
    "lat, lon = 45.77, 4.855\n",
    "my_map = folium.Map(location=[lat, lon], zoom_start=5)\n",
    "\n",
    "# Add layers to the map using a loop.\n",
    "for tile, vis_param, name in zip(ee_tiles, ee_vis_params, ee_tiles_names):\n",
    "    my_map.add_ee_layer(tile, vis_param, name)\n",
    "\n",
    "folium.LayerControl(collapsed = False).add_to(my_map)\n",
    "\n",
    "my_map"
   ]
  },
  {
   "cell_type": "markdown",
   "metadata": {},
   "source": [
    "# Test Var fire"
   ]
  },
  {
   "cell_type": "code",
   "execution_count": null,
   "metadata": {},
   "outputs": [],
   "source": [
    "arr1 = rasterio.open('./output/before_var.tiff').read(1)\n",
    "arr2 = rasterio.open('./output/after_var.tiff').read(1)\n",
    "diff = arr1 - arr2"
   ]
  },
  {
   "cell_type": "code",
   "execution_count": null,
   "metadata": {},
   "outputs": [],
   "source": [
    "v1 = 6800\n",
    "v2 = 9000\n",
    "delta_v = v2 - v1\n",
    "h1 = 8780\n",
    "h2 = h1 + delta_v"
   ]
  },
  {
   "cell_type": "code",
   "execution_count": null,
   "metadata": {},
   "outputs": [],
   "source": [
    "plt.figure(figsize=(12, 12))\n",
    "plt.imshow(diff)\n",
    "plt.vlines(v1, 0, diff.shape[0], color='r', linestyle='dashed', linewidth=1)\n",
    "plt.vlines(v2, 0, diff.shape[0], color='r', linestyle='dashed', linewidth=1)\n",
    "plt.hlines(h1, 0, diff.shape[1], color='r', linestyle='dashed', linewidth=1)\n",
    "plt.hlines(h2, 0, diff.shape[1], color='r', linestyle='dashed', linewidth=1)\n",
    "# plt.grid(True, which='both')\n",
    "plt.tight_layout()\n",
    "plt.show()"
   ]
  },
  {
   "cell_type": "code",
   "execution_count": null,
   "metadata": {},
   "outputs": [],
   "source": [
    "fire = diff[h1:h2, v1:v2]\n",
    "plt.imshow(fire)\n",
    "plt.show()"
   ]
  },
  {
   "cell_type": "code",
   "execution_count": null,
   "metadata": {},
   "outputs": [],
   "source": [
    "from skimage.morphology import square, closing\n",
    "\n",
    "tt = utils.threshold_filter(fire, 0.3)\n",
    "plt.imshow(tt)\n",
    "plt.show()\n",
    "\n",
    "print(utils.calculate_area(tt, diff) * 100)\n",
    "\n",
    "closed = closing(tt, square(25))\n",
    "plt.imshow(closed)\n",
    "plt.show()\n",
    "\n",
    "print(utils.calculate_area(closed, diff) * 100)"
   ]
  },
  {
   "cell_type": "code",
   "execution_count": null,
   "metadata": {},
   "outputs": [],
   "source": [
    "# from the pixels that are not null, we take a random sample (1%)\n",
    "# so we can then transform the pixels into coordinates\n",
    "# this guarantees than (in theory) the shape of the fire is kept\n",
    "np.random.seed(42)\n",
    "randoms = np.zeros_like(closed)\n",
    "for i in range(closed.shape[0]):\n",
    "    for j in range(closed.shape[1]):\n",
    "        if closed[i, j] != 0.:\n",
    "            randoms[i, j] = np.random.choice([1, 0], p=[0.01, 0.99])"
   ]
  },
  {
   "cell_type": "code",
   "execution_count": null,
   "metadata": {},
   "outputs": [],
   "source": [
    "# x, y = diff.shape[0] / 2, diff.shape[1] / 2 # center of the image\n",
    "x, y = 1500, 1500\n",
    "plt.imshow(randoms)\n",
    "plt.plot(x, y, 'ro')\n",
    "plt.show()"
   ]
  },
  {
   "cell_type": "code",
   "execution_count": null,
   "metadata": {},
   "outputs": [],
   "source": [
    "xx, yy = v1 + x, h1 + y # shift the coordinates\n",
    "\n",
    "plt.imshow(diff)\n",
    "plt.plot(xx, yy, 'ro')\n",
    "plt.show()"
   ]
  },
  {
   "cell_type": "code",
   "execution_count": null,
   "metadata": {},
   "outputs": [],
   "source": [
    "image_folder = 'data/S2B_MSIL2A_20210802T102559_N0301_R108_T31TGJ_20210802T133728.SAFE/'\n",
    "tci_file_path = utils.get_tci_file_path(image_folder)"
   ]
  },
  {
   "cell_type": "code",
   "execution_count": null,
   "metadata": {},
   "outputs": [],
   "source": [
    "# center of the fire image\n",
    "pixel_column = int(xx)\n",
    "pixel_row = int(yy)\n",
    "print(f\"pixel_column: {pixel_column}\")\n",
    "print(f\"pixel_row: {pixel_row}\")\n",
    "\n",
    "transform = rasterio.open(tci_file_path, driver='JP2OpenJPEG').transform\n",
    "zone_number = int(tci_file_path.split(\"/\")[-1][1:3])\n",
    "zone_letter = tci_file_path.split(\"/\")[-1][0]\n",
    "\n",
    "utm_x, utm_y = transform[2], transform[5]\n",
    "\n",
    "# Converting pixel position to UTM\n",
    "east = utm_x + pixel_column * 10\n",
    "north = utm_y + pixel_row * - 10\n",
    "\n",
    "# Converting UTM to latitude and longitude\n",
    "latitude, longitude = utm.to_latlon(east, north, zone_number, zone_letter)\n",
    "print(f\"latitude, longitude: {latitude}, {longitude}\")\n",
    "\n",
    "# Converting latitude and longitude to UTM\n",
    "east, north, zone_number, zone_letter = utm.from_latlon(latitude, longitude, force_zone_number=zone_number)\n",
    "\n",
    "# Converting UTM to column and row\n",
    "pixel_column = round((east - utm_x) / 10)\n",
    "pixel_row = round((north - utm_y) / - 10)\n",
    "print(f\"pixel_column: {pixel_column}\")\n",
    "print(f\"pixel_row: {pixel_row}\")"
   ]
  },
  {
   "cell_type": "markdown",
   "metadata": {},
   "source": [
    "The coordinates correspond to ~center of the fire\n",
    "\n",
    "TODO:\n",
    "\n",
    "* Take every pixel of `fire` and transform them into coordinates\n",
    "* Create a shapefile from those coordinates\n",
    "* Also retrieve soil type from these coordinates"
   ]
  },
  {
   "cell_type": "code",
   "execution_count": null,
   "metadata": {},
   "outputs": [],
   "source": [
    "def get_coordinates_from_pixels(img, h, v, img_folder):\n",
    "    coords = []\n",
    "    for i in range(img.shape[0]):\n",
    "        for j in range(img.shape[1]):\n",
    "            if img[i, j] != 0.:\n",
    "                coords.append((h + i, v + j))\n",
    "\n",
    "    tci_file_path = utils.get_tci_file_path(img_folder)\n",
    "    transform = rasterio.open(tci_file_path, driver='JP2OpenJPEG').transform\n",
    "    zone_number = int(tci_file_path.split(\"/\")[-1][1:3])\n",
    "    zone_letter = tci_file_path.split(\"/\")[-1][0]\n",
    "    utm_x, utm_y = transform[2], transform[5]\n",
    "    coords_utm = []\n",
    "    for coord in coords:\n",
    "        x, y = coord\n",
    "        east = utm_x + x * 10\n",
    "        north = utm_y + y * - 10\n",
    "        latitude, longitude = utm.to_latlon(east, north, zone_number, zone_letter)\n",
    "        coords_utm.append((latitude, longitude))\n",
    "    return coords_utm"
   ]
  },
  {
   "cell_type": "code",
   "execution_count": null,
   "metadata": {},
   "outputs": [],
   "source": [
    "coords_utm = get_coordinates_from_pixels(randoms, h1, v1, image_folder)\n",
    "coords_utm[:5]"
   ]
  },
  {
   "cell_type": "code",
   "execution_count": null,
   "metadata": {},
   "outputs": [],
   "source": [
    "coords_utm = pd.DataFrame(coords_utm, columns=['latitude', 'longitude'])\n",
    "coords_utm.to_csv('data/coords_utm_var.csv', index=False)\n",
    "coords_utm.head()"
   ]
  },
  {
   "cell_type": "code",
   "execution_count": null,
   "metadata": {},
   "outputs": [],
   "source": [
    "lc_type = pd.read_csv('data/MODIS_LandCover_Type1.csv', sep=',', header=0)\n",
    "lc_type['Color'] = lc_type['Color'].apply(lambda x: f'#{x}')\n",
    "lc_type"
   ]
  },
  {
   "cell_type": "code",
   "execution_count": null,
   "metadata": {},
   "outputs": [],
   "source": [
    "import time\n",
    "from collections import Counter\n",
    "import matplotlib.colors as mplcols"
   ]
  },
  {
   "cell_type": "code",
   "execution_count": null,
   "metadata": {},
   "outputs": [],
   "source": [
    "np.random.seed(42)\n",
    "scale = 1000\n",
    "covers = []\n",
    "choose = 500\n",
    "random_idxs = np.sort(np.random.choice(range(len(coords_utm)), size=choose, replace=False))"
   ]
  },
  {
   "cell_type": "code",
   "execution_count": null,
   "metadata": {},
   "outputs": [],
   "source": [
    "for i in random_idxs:\n",
    "# for i in range(choose):\n",
    "    u_lat, u_lon = coords_utm.iloc[i]['latitude'], coords_utm.iloc[i]['longitude']\n",
    "    u_poi = ee.Geometry.Point(u_lon, u_lat)\n",
    "    time.sleep(0.25)\n",
    "\n",
    "    try:\n",
    "        lc_urban_point = lc.first().sample(u_poi, scale).first().get('LC_Type1').getInfo()\n",
    "        covers.append(lc_urban_point)\n",
    "    except:\n",
    "        print('error with earth engine')"
   ]
  },
  {
   "cell_type": "code",
   "execution_count": null,
   "metadata": {},
   "outputs": [],
   "source": [
    "if None in covers:\n",
    "    covers = [i for i in covers if i] # remove None values\n",
    "covers = dict(Counter(covers))\n",
    "covers"
   ]
  },
  {
   "cell_type": "code",
   "execution_count": null,
   "metadata": {},
   "outputs": [],
   "source": [
    "sum(covers.values())"
   ]
  },
  {
   "cell_type": "code",
   "execution_count": null,
   "metadata": {},
   "outputs": [],
   "source": [
    "labels = [lc_type.loc[lc_type['Value'] == i]['Description'].values[0] for i in covers.keys()]\n",
    "labels = [i.split(':')[0] for i in labels]\n",
    "labels"
   ]
  },
  {
   "cell_type": "code",
   "execution_count": null,
   "metadata": {},
   "outputs": [],
   "source": [
    "colors = [lc_type.loc[lc_type['Value'] == i]['Color'].values[0] for i in covers.keys()]\n",
    "colors = [mplcols.to_rgb(i) for i in colors]"
   ]
  },
  {
   "cell_type": "code",
   "execution_count": null,
   "metadata": {},
   "outputs": [],
   "source": [
    "fig, ax = plt.subplots(figsize=(8, 8), subplot_kw=dict(aspect=\"equal\"))\n",
    "wedges, texts, autotexts = ax.pie(covers.values(),\n",
    "    autopct='%1.1f%%', startangle=90,\n",
    "    textprops=dict(color='w'))\n",
    "    # colors=colors))\n",
    "ax.legend(wedges, labels,\n",
    "    title='Land Cover Type',\n",
    "    loc=\"center left\",\n",
    "    bbox_to_anchor=(1, 0, 0.5, 1))\n",
    "plt.setp(autotexts, size=8, weight=\"bold\")\n",
    "plt.show()"
   ]
  },
  {
   "cell_type": "markdown",
   "metadata": {},
   "source": [
    "<img src=\"output/pie.gif\" width=\"750\" align=\"center\">"
   ]
  },
  {
   "cell_type": "code",
   "execution_count": null,
   "metadata": {},
   "outputs": [],
   "source": [
    "# Afficher image RGB\n",
    "# Graphe des couvertures en fonction du nombre de points"
   ]
  }
 ],
 "metadata": {
  "interpreter": {
   "hash": "55b03f22f5ba085f7d66bc3e0c9ceacb024f6f488acd55b094b0b566b1975ec0"
  },
  "kernelspec": {
   "display_name": "Python 3.8.11 64-bit ('env_cnes': conda)",
   "language": "python",
   "name": "python3"
  },
  "language_info": {
   "codemirror_mode": {
    "name": "ipython",
    "version": 3
   },
   "file_extension": ".py",
   "mimetype": "text/x-python",
   "name": "python",
   "nbconvert_exporter": "python",
   "pygments_lexer": "ipython3",
   "version": "3.9.7"
  },
  "orig_nbformat": 4
 },
 "nbformat": 4,
 "nbformat_minor": 2
}
