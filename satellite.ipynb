{
 "cells": [
  {
   "cell_type": "code",
   "execution_count": 1,
   "metadata": {},
   "outputs": [],
   "source": [
    "import os\n",
    "import cv2\n",
    "import datetime as dt\n",
    "import json\n",
    "import itertools\n",
    "\n",
    "import rasterio\n",
    "from rasterio import plot\n",
    "import matplotlib.pyplot as plt\n",
    "import seaborn as sns\n",
    "import numpy as np\n",
    "import pandas as pd\n",
    "from sentinelsat import SentinelAPI, read_geojson, geojson_to_wkt\n",
    "import utm\n",
    "\n",
    "import utils"
   ]
  },
  {
   "cell_type": "code",
   "execution_count": 2,
   "metadata": {},
   "outputs": [],
   "source": [
    "geojson_path = \"data/target_zone.geojson\"\n",
    "dates = (dt.date(2020, 7, 27), dt.date(2020, 8, 8))\n",
    "cloud_cover_percentage = (0, 30)\n",
    "credentials_path = \"secrets/sentinel_api_credentials.json\"\n",
    "shape = geojson_to_wkt(read_geojson(geojson_path))"
   ]
  },
  {
   "cell_type": "code",
   "execution_count": null,
   "metadata": {},
   "outputs": [],
   "source": [
    "with open(credentials_path, 'r') as infile:\n",
    "    credentials = json.load(infile)\n",
    "\n",
    "api = SentinelAPI(\n",
    "    credentials[\"username\"],\n",
    "    credentials[\"password\"]\n",
    ")\n",
    "\n",
    "images = api.query(\n",
    "    area=shape,\n",
    "    date=dates,\n",
    "    platformname=\"Sentinel-2\",\n",
    "    processinglevel=\"Level-2A\",\n",
    "    cloudcoverpercentage=cloud_cover_percentage\n",
    ")\n",
    "\n",
    "images_df = api.to_dataframe(images)"
   ]
  },
  {
   "cell_type": "code",
   "execution_count": null,
   "metadata": {},
   "outputs": [],
   "source": [
    "uuid = \"4172581f-67cf-4c08-9250-be29c86bfae7\"\n",
    "# uuid = \"a6889608-c2b4-4b0d-a731-a7f0c2da8951\"\n",
    "# api.download(\"0f30f930-88c3-4540-b478-414df01ef414\")\n",
    "print(utils.minimize_dataframe(images_df))"
   ]
  },
  {
   "cell_type": "markdown",
   "metadata": {},
   "source": [
    "Dans la cellule suivante, on a :\n",
    "* la première valeur correspond au 27 juillet 2020 (avant l'incendie)\n",
    "* la deuxième date du 29 juillet mais l'image n'est pas exploitable (quasiment que du noir)\n",
    "* la troisième correspond au 6 août 2020 donc après l'incendie"
   ]
  },
  {
   "cell_type": "code",
   "execution_count": null,
   "metadata": {},
   "outputs": [],
   "source": [
    "# article file\n",
    "# image_folder = \"./data/S2B_MSIL2A_20200727T105619_N0214_R094_T30TXQ_20200727T144035.SAFE\"\n",
    "# image_folder = \"./data/S2A_MSIL2A_20200729T105031_N0214_R051_T30TXQ_20200729T134025.SAFE\"\n",
    "image_folder = \"./data/S2B_MSIL2A_20200806T105619_N0214_R094_T30TXQ_20200806T131026.SAFE\""
   ]
  },
  {
   "cell_type": "code",
   "execution_count": null,
   "metadata": {},
   "outputs": [],
   "source": [
    "band_dict = {\n",
    "    band: utils.get_band(image_folder, band, resolution=10)\n",
    "    for band in [\"B02\", \"B03\", \"B04\", \"B08\"] # NDVI + RGB\n",
    "    # for band in [\"B12\", \"B8A\", \"B04\"] # SWIR\n",
    "}"
   ]
  },
  {
   "cell_type": "code",
   "execution_count": null,
   "metadata": {},
   "outputs": [],
   "source": [
    "# TODO\n",
    "\n",
    "# Shapefile en sortie -> fiona"
   ]
  },
  {
   "cell_type": "markdown",
   "metadata": {},
   "source": [
    "Save image before the fire"
   ]
  },
  {
   "cell_type": "code",
   "execution_count": null,
   "metadata": {},
   "outputs": [],
   "source": [
    "band4 = utils.get_band(image_folder, \"B04\", resolution=10)\n",
    "band4 = utils.open_rasterio(band4)"
   ]
  },
  {
   "cell_type": "code",
   "execution_count": null,
   "metadata": {},
   "outputs": [],
   "source": [
    "image_path = '/'.join(\n",
    "    ['./data', 'S2B_MSIL2A_20200727T105619_N0214_R094_T30TXQ_20200727T144035.SAFE', 'GRANULE',\n",
    "    'L2A_T30TXQ_A017709_20200727T110643', 'IMG_DATA', 'R10m/']\n",
    ")\n",
    "print(image_path)\n",
    "\n",
    "band4 = rasterio.open(image_path + 'T30TXQ_20200727T105619_B04_10m.jp2', driver='JP2OpenJPEG') # red\n",
    "band8 = rasterio.open(image_path + 'T30TXQ_20200727T105619_B08_10m.jp2', driver='JP2OpenJPEG') # nir\n",
    "\n",
    "print(band4.count)\n",
    "print(band4.width)\n",
    "print(band4.height)\n",
    "\n",
    "red = band4.read(1).astype('float64')\n",
    "nir = band8.read(1).astype('float64')\n",
    "\n",
    "ndvi_bef = np.where(\n",
    "    (nir + red) == 0.,\n",
    "    0.,\n",
    "    (nir - red) / (nir + red)\n",
    ")"
   ]
  },
  {
   "cell_type": "code",
   "execution_count": null,
   "metadata": {},
   "outputs": [],
   "source": [
    "ndvi_img = rasterio.open('./output/ndvi_img_before.tiff', 'w', driver='GTiff',\n",
    "    width=band4.width, height=band4.height, count=1,\n",
    "    crs=band4.crs, transform=band4.transform,\n",
    "    dtype='float64'\n",
    ")\n",
    "\n",
    "ndvi_img.write(ndvi_bef, 1)\n",
    "ndvi_img.close()"
   ]
  },
  {
   "cell_type": "code",
   "execution_count": null,
   "metadata": {},
   "outputs": [],
   "source": [
    "ndvi_bef = rasterio.open('./output/ndvi_img_before.tiff')\n",
    "\n",
    "plt.figure(figsize=(16, 9))\n",
    "plot.show(ndvi_bef)\n",
    "plt.show()"
   ]
  },
  {
   "cell_type": "markdown",
   "metadata": {},
   "source": [
    "Save the image from after the fire"
   ]
  },
  {
   "cell_type": "code",
   "execution_count": null,
   "metadata": {},
   "outputs": [],
   "source": [
    "image_path = '/'.join(\n",
    "    ['./data', 'S2B_MSIL2A_20200806T105619_N0214_R094_T30TXQ_20200806T131026.SAFE', 'GRANULE',\n",
    "    'L2A_T30TXQ_A017852_20200806T105752', 'IMG_DATA', 'R10m/']\n",
    ")\n",
    "print(image_path)\n",
    "\n",
    "band4 = rasterio.open(image_path + 'T30TXQ_20200806T105619_B04_10m.jp2', driver='JP2OpenJPEG')\n",
    "band8 = rasterio.open(image_path + 'T30TXQ_20200806T105619_B08_10m.jp2', driver='JP2OpenJPEG')\n",
    "\n",
    "plt.figure(figsize=(12, 8))\n",
    "plot.show(band4)\n",
    "plt.show()"
   ]
  },
  {
   "cell_type": "code",
   "execution_count": null,
   "metadata": {},
   "outputs": [],
   "source": [
    "fig, (ax1, ax2) = plt.subplots(1, 2, figsize=(16, 9))\n",
    "plot.show(band4, ax=ax1)\n",
    "plot.show(band8, ax=ax2)\n",
    "fig.tight_layout()"
   ]
  },
  {
   "cell_type": "code",
   "execution_count": null,
   "metadata": {},
   "outputs": [],
   "source": [
    "red = band4.read(1).astype('float64')\n",
    "nir = band8.read(1).astype('float64')\n",
    "\n",
    "ndvi_after = np.where(\n",
    "    (nir + red) == 0.,\n",
    "    0.,\n",
    "    (nir - red) / (nir + red)\n",
    ")"
   ]
  },
  {
   "cell_type": "code",
   "execution_count": null,
   "metadata": {},
   "outputs": [],
   "source": [
    "ndvi_img = rasterio.open('./output/ndvi_img_after.tiff', 'w', driver='GTiff',\n",
    "    width=band4.width, height=band4.height, count=1,\n",
    "    crs=band4.crs, transform=band4.transform,\n",
    "    dtype='float64'\n",
    ")\n",
    "\n",
    "ndvi_img.write(ndvi_after, 1)\n",
    "ndvi_img.close()"
   ]
  },
  {
   "cell_type": "code",
   "execution_count": null,
   "metadata": {},
   "outputs": [],
   "source": [
    "ndvi_after = rasterio.open('./output/ndvi_img_after.tiff')\n",
    "\n",
    "plt.figure(figsize=(16, 9))\n",
    "plot.show(ndvi_after)\n",
    "plt.show()"
   ]
  },
  {
   "cell_type": "code",
   "execution_count": null,
   "metadata": {},
   "outputs": [],
   "source": [
    "arr1 = ndvi_bef.read(1)\n",
    "print(arr1.shape)\n",
    "\n",
    "plt.figure(figsize=(16, 9))\n",
    "plt.imshow(arr1)\n",
    "plt.show()"
   ]
  },
  {
   "cell_type": "code",
   "execution_count": null,
   "metadata": {},
   "outputs": [],
   "source": [
    "# Recreating an RGB image\n",
    "img = cv2.merge((band_dict[\"B04\"], band_dict[\"B03\"], band_dict[\"B02\"])) # RGB\n",
    "# img = cv2.merge((band_dict[\"B08\"], band_dict[\"B04\"], band_dict[\"B03\"])) # Infrared\n",
    "# img = cv2.merge((band_dict[\"B12\"], band_dict[\"B8A\"], band_dict[\"B04\"])) # SWIR\n",
    "\n",
    "plt.imshow(img)\n",
    "plt.show()"
   ]
  },
  {
   "cell_type": "code",
   "execution_count": null,
   "metadata": {},
   "outputs": [],
   "source": [
    "img_processed = img / 8\n",
    "img_processed = img_processed.astype(int)\n",
    "\n",
    "plt.imshow(img_processed)\n",
    "plt.show()"
   ]
  },
  {
   "cell_type": "markdown",
   "metadata": {},
   "source": [
    "Par tâtonnements j'ai trouvé la zone de l'incendie\n",
    "\n",
    "Splitting the images to machine learning ready sizes"
   ]
  },
  {
   "cell_type": "code",
   "execution_count": null,
   "metadata": {
    "scrolled": false
   },
   "outputs": [],
   "source": [
    "frag_count = 18\n",
    "frag_size = int(arr1.shape[0] / frag_count)\n",
    "frag_dict = {}\n",
    "\n",
    "for y, x in itertools.product(range(frag_count), range(frag_count)):\n",
    "    frag_dict[(x, y)] = arr1[y * frag_size: (y + 1) * frag_size,\n",
    "        x * frag_size: (x + 1) * frag_size]\n",
    "\n",
    "plt.figure(figsize=(16, 9))\n",
    "plt.imshow(frag_dict[(15, 12)])\n",
    "plt.show()"
   ]
  },
  {
   "cell_type": "code",
   "execution_count": null,
   "metadata": {},
   "outputs": [],
   "source": [
    "arr2 = ndvi_after.read(1)\n",
    "print(arr2.shape)\n",
    "\n",
    "frag_dict = {}\n",
    "\n",
    "for y, x in itertools.product(range(frag_count), range(frag_count)):\n",
    "    frag_dict[(x, y)] = arr2[y * frag_size: (y + 1) * frag_size,\n",
    "        x * frag_size: (x + 1) * frag_size]\n",
    "\n",
    "plt.figure(figsize=(16, 9))\n",
    "plt.imshow(frag_dict[(15, 12)])\n",
    "plt.show()"
   ]
  },
  {
   "cell_type": "code",
   "execution_count": null,
   "metadata": {},
   "outputs": [],
   "source": [
    "diff = arr1 - arr2 # before - after\n",
    "frag_dict = {}\n",
    "\n",
    "for y, x in itertools.product(range(frag_count), range(frag_count)):\n",
    "    frag_dict[(x, y)] = diff[y * frag_size: (y + 1) * frag_size,\n",
    "        x * frag_size: (x + 1) * frag_size]\n",
    "\n",
    "plt.figure(figsize=(16, 9))\n",
    "plt.imshow(frag_dict[(15, 12)])\n",
    "plt.show()"
   ]
  },
  {
   "cell_type": "markdown",
   "metadata": {},
   "source": [
    "Seuillage (arbitraire pour le moment) des petites valeurs"
   ]
  },
  {
   "cell_type": "code",
   "execution_count": null,
   "metadata": {},
   "outputs": [],
   "source": [
    "seuil = 0.25\n",
    "wf = frag_dict[(15, 12)]\n",
    "wf = utils.threshold_filter(wf, seuil)\n",
    "\n",
    "plt.figure(figsize=(16, 9))\n",
    "plt.imshow(wf, cmap=\"plasma\")\n",
    "plt.colorbar()\n",
    "plt.xticks([])\n",
    "plt.yticks([])\n",
    "plt.show()"
   ]
  },
  {
   "cell_type": "markdown",
   "metadata": {},
   "source": [
    "Calcul préliminaire de l'aire brûlée"
   ]
  },
  {
   "cell_type": "code",
   "execution_count": null,
   "metadata": {},
   "outputs": [],
   "source": [
    "area = utils.calculate_area(wf, arr1)\n",
    "print(f'Aire de la zone brûlée en km^2 : {area} km^2')\n",
    "# to hectares\n",
    "print(f'Aire de la zone brûlée en hectares : {round(area * 100, 2)} ha')"
   ]
  },
  {
   "cell_type": "code",
   "execution_count": null,
   "metadata": {},
   "outputs": [],
   "source": [
    "res = utils.merge_four_images([\n",
    "    frag_dict[(14, 11)],\n",
    "    frag_dict[(15, 11)],\n",
    "    frag_dict[(14, 12)],\n",
    "    frag_dict[(15, 12)]\n",
    "])"
   ]
  },
  {
   "cell_type": "code",
   "execution_count": null,
   "metadata": {},
   "outputs": [],
   "source": [
    "res = utils.threshold_filter(res, 0.3)\n",
    "\n",
    "plt.figure(figsize=(16, 9))\n",
    "plt.imshow(res)\n",
    "plt.show()"
   ]
  },
  {
   "cell_type": "code",
   "execution_count": null,
   "metadata": {},
   "outputs": [],
   "source": [
    "utils.calculate_area(res, arr1) * 100"
   ]
  },
  {
   "cell_type": "code",
   "execution_count": null,
   "metadata": {},
   "outputs": [],
   "source": [
    "def get_tci_file_path(image_folder):\n",
    "    subfolder = [f for f in os.listdir(image_folder + \"/GRANULE\") if f[0]  == \"L\"][0]\n",
    "    image_folder_path  = f\"{image_folder}/GRANULE/{subfolder}/IMG_DATA/R10m\"\n",
    "    image_files = [im for im in os.listdir(image_folder_path) if im[-4:] == \".jp2\"]\n",
    "    selected_file = [im for im in image_files if im.split(\"_\")[2] == \"TCI\"][0]\n",
    "    \n",
    "    return f\"{image_folder_path}/{selected_file}\"\n",
    "\n",
    "tci_file_path = get_tci_file_path(image_folder)"
   ]
  },
  {
   "cell_type": "code",
   "execution_count": null,
   "metadata": {},
   "outputs": [],
   "source": [
    "# Testing with the center of fragment 15, 12\n",
    "pixel_column = int(frag_size * 15.5)\n",
    "pixel_row = int(frag_size * 12.5)\n",
    "print(f\"pixel_column: {pixel_column}\")\n",
    "print(f\"pixel_row: {pixel_row}\")"
   ]
  },
  {
   "cell_type": "markdown",
   "metadata": {},
   "source": [
    "UTM: Universal Tranverse Mercator"
   ]
  },
  {
   "cell_type": "code",
   "execution_count": null,
   "metadata": {},
   "outputs": [],
   "source": [
    "transform = rasterio.open(tci_file_path, driver='JP2OpenJPEG').transform\n",
    "zone_number = int(tci_file_path.split(\"/\")[-1][1:3])\n",
    "zone_letter = tci_file_path.split(\"/\")[-1][0]\n",
    "\n",
    "utm_x, utm_y = transform[2], transform[5]"
   ]
  },
  {
   "cell_type": "code",
   "execution_count": null,
   "metadata": {},
   "outputs": [],
   "source": [
    "utm_x, utm_y"
   ]
  },
  {
   "cell_type": "code",
   "execution_count": null,
   "metadata": {},
   "outputs": [],
   "source": [
    "# Converting pixel position to UTM\n",
    "east = utm_x + pixel_column * 10\n",
    "north = utm_y + pixel_row * - 10\n",
    "\n",
    "# Converting UTM to latitude and longitude\n",
    "latitude, longitude = utm.to_latlon(east, north, zone_number, zone_letter)"
   ]
  },
  {
   "cell_type": "code",
   "execution_count": null,
   "metadata": {},
   "outputs": [],
   "source": [
    "print(f\"latitude, longitude: {latitude}, {longitude} \")"
   ]
  },
  {
   "cell_type": "code",
   "execution_count": null,
   "metadata": {},
   "outputs": [],
   "source": [
    "# Converting latitude and longitude to UTM\n",
    "east, north, zone_number, zone_letter = utm.from_latlon(latitude, longitude, force_zone_number=zone_number)\n",
    "\n",
    "# Converting UTM to column and row\n",
    "pixel_column = round((east - utm_x) / 10)\n",
    "pixel_row = round((north - utm_y) / - 10)"
   ]
  },
  {
   "cell_type": "code",
   "execution_count": null,
   "metadata": {},
   "outputs": [],
   "source": [
    "print(f\"pixel_column: {pixel_column}\")\n",
    "print(f\"pixel_row: {pixel_row}\")"
   ]
  },
  {
   "cell_type": "code",
   "execution_count": null,
   "metadata": {},
   "outputs": [],
   "source": [
    "plt.figure(figsize=(16, 9))\n",
    "plt.subplot(221)\n",
    "plt.imshow(frag_dict[(14, 11)])\n",
    "plt.subplot(222)\n",
    "plt.imshow(frag_dict[(15, 11)])\n",
    "plt.subplot(223)\n",
    "plt.imshow(frag_dict[(14, 12)])\n",
    "plt.subplot(224)\n",
    "plt.imshow(frag_dict[(15, 12)])\n",
    "# plt.savefig(\"test2.png\")\n",
    "plt.show()"
   ]
  },
  {
   "cell_type": "code",
   "execution_count": null,
   "metadata": {},
   "outputs": [],
   "source": [
    "img1 = frag_dict[(14, 11)]\n",
    "img2 = frag_dict[(15, 11)]\n",
    "img3 = frag_dict[(14, 12)]\n",
    "img4 = frag_dict[(15, 12)]\n",
    "\n",
    "merged = utils.merge_four_images([img1, img2, img3, img4])\n",
    "plt.imshow(merged)\n",
    "plt.show()"
   ]
  },
  {
   "cell_type": "markdown",
   "metadata": {},
   "source": [
    "Edge detection with Canny"
   ]
  },
  {
   "cell_type": "code",
   "execution_count": null,
   "metadata": {},
   "outputs": [],
   "source": [
    "img = cv2.imread(\"output/test2.png\")\n",
    "edges = cv2.Canny(img, 100, 200)\n",
    "\n",
    "plt.figure(figsize=(16, 9))\n",
    "plt.subplot(121)\n",
    "plt.imshow(img)\n",
    "plt.title('Original Image')\n",
    "plt.xticks([])\n",
    "plt.yticks([])\n",
    "plt.subplot(122)\n",
    "plt.imshow(edges, cmap='gray')\n",
    "plt.title('Edge Image')\n",
    "plt.xticks([])\n",
    "plt.yticks([])\n",
    "plt.show()"
   ]
  },
  {
   "cell_type": "code",
   "execution_count": null,
   "metadata": {},
   "outputs": [],
   "source": []
  }
 ],
 "metadata": {
  "interpreter": {
   "hash": "55b03f22f5ba085f7d66bc3e0c9ceacb024f6f488acd55b094b0b566b1975ec0"
  },
  "kernelspec": {
   "display_name": "Python 3.8.11 64-bit ('env_cnes': conda)",
   "name": "python3"
  },
  "language_info": {
   "codemirror_mode": {
    "name": "ipython",
    "version": 3
   },
   "file_extension": ".py",
   "mimetype": "text/x-python",
   "name": "python",
   "nbconvert_exporter": "python",
   "pygments_lexer": "ipython3",
   "version": "3.9.7"
  },
  "toc": {
   "base_numbering": 1,
   "nav_menu": {},
   "number_sections": true,
   "sideBar": true,
   "skip_h1_title": false,
   "title_cell": "Table of Contents",
   "title_sidebar": "Contents",
   "toc_cell": false,
   "toc_position": {},
   "toc_section_display": true,
   "toc_window_display": false
  },
  "varInspector": {
   "cols": {
    "lenName": 16,
    "lenType": 16,
    "lenVar": 40
   },
   "kernels_config": {
    "python": {
     "delete_cmd_postfix": "",
     "delete_cmd_prefix": "del ",
     "library": "var_list.py",
     "varRefreshCmd": "print(var_dic_list())"
    },
    "r": {
     "delete_cmd_postfix": ") ",
     "delete_cmd_prefix": "rm(",
     "library": "var_list.r",
     "varRefreshCmd": "cat(var_dic_list()) "
    }
   },
   "position": {
    "height": "419.85px",
    "left": "1774px",
    "right": "20px",
    "top": "120px",
    "width": "350px"
   },
   "types_to_exclude": [
    "module",
    "function",
    "builtin_function_or_method",
    "instance",
    "_Feature"
   ],
   "window_display": false
  }
 },
 "nbformat": 4,
 "nbformat_minor": 2
}
