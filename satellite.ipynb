{
 "cells": [
  {
   "cell_type": "code",
   "execution_count": null,
   "metadata": {},
   "outputs": [],
   "source": [
    "import os\n",
    "import cv2\n",
    "from datetime import date\n",
    "import json\n",
    "import itertools\n",
    "\n",
    "import rasterio\n",
    "import matplotlib.pyplot as plt\n",
    "import numpy as np\n",
    "from sentinelsat import SentinelAPI, read_geojson, geojson_to_wkt\n",
    "from sentinelhub import pixel_to_utm, utm_to_pixel\n",
    "import utm\n",
    "import pandas as pd"
   ]
  },
  {
   "cell_type": "code",
   "execution_count": null,
   "metadata": {},
   "outputs": [],
   "source": [
    "geojson_path = \"./data/target_zone.geojson\"\n",
    "\n",
    "with open(\"./secrets/sentinel_api_credentials.json\", \"r\") as infile:\n",
    "    credentials = json.load(infile)\n",
    "\n",
    "api = SentinelAPI(\n",
    "    credentials[\"username\"], \n",
    "    credentials[\"password\"],\n",
    "    \"https://scihub.copernicus.eu/dhus\"\n",
    ")\n",
    "\n",
    "shape = geojson_to_wkt(read_geojson(geojson_path))\n",
    "\n",
    "images = api.query(\n",
    "    shape,\n",
    "    date=(date(2020, 7, 27), date(2020, 7, 29)),\n",
    "    platformname=\"Sentinel-2\",\n",
    "    processinglevel=\"Level-2A\",\n",
    "    cloudcoverpercentage=(0, 30)\n",
    ")\n",
    "\n",
    "images_df = api.to_dataframe(images)"
   ]
  },
  {
   "cell_type": "code",
   "execution_count": null,
   "metadata": {},
   "outputs": [],
   "source": [
    "key_columns = [\"platformserialidentifier\", \"processinglevel\", \"cloudcoverpercentage\", \n",
    "               \"vegetationpercentage\", \"beginposition\"]\n",
    "images_df[key_columns].head()"
   ]
  },
  {
   "cell_type": "code",
   "execution_count": null,
   "metadata": {},
   "outputs": [],
   "source": [
    "uuid = \"4172581f-67cf-4c08-9250-be29c86bfae7\"\n",
    "# uuid = \"a6889608-c2b4-4b0d-a731-a7f0c2da8951\"\n",
    "# api.download(uuid)"
   ]
  },
  {
   "cell_type": "code",
   "execution_count": null,
   "metadata": {},
   "outputs": [],
   "source": [
    "# article file\n",
    "image_folder = \"./data/S2B_MSIL2A_20200727T105619_N0214_R094_T30TXQ_20200727T144035.SAFE\"\n",
    "# project file\n",
    "# image_folder = \"./data/S2B_MSIL2A_20200728T070629_N0214_R106_T38MME_20200728T113142.SAFE\""
   ]
  },
  {
   "cell_type": "code",
   "execution_count": null,
   "metadata": {},
   "outputs": [],
   "source": [
    "def get_band(image_folder, band, resolution=10):\n",
    "    subfolder = [f for f in os.listdir(image_folder + \"/GRANULE\") if f[0]  == \"L\"][0]\n",
    "    image_folder_path  = f\"{image_folder}/GRANULE/{subfolder}/IMG_DATA/R{resolution}m\"\n",
    "    image_files = [im for im in os.listdir(image_folder_path) if im[-4:] == \".jp2\"]\n",
    "    selected_file = [im for im in image_files if im.split(\"_\")[2] == band][0]\n",
    "    \n",
    "    with rasterio.open(f\"{image_folder_path}/{selected_file}\") as infile:\n",
    "        img = infile.read(1)\n",
    "    \n",
    "    return img"
   ]
  },
  {
   "cell_type": "code",
   "execution_count": null,
   "metadata": {},
   "outputs": [],
   "source": [
    "def get_band_bis(img_folder, band):\n",
    "    image_files = [im for im in os.listdir(img_folder) if im[-4:] == \".jp2\"]\n",
    "    selected_file = [im for im in image_files if im.split(\"_\")[2] == band][0]\n",
    "    \n",
    "    with rasterio.open(f\"{img_folder}/{selected_file}\") as infile:\n",
    "        img = infile.read(1)\n",
    "    \n",
    "    return img"
   ]
  },
  {
   "cell_type": "code",
   "execution_count": null,
   "metadata": {},
   "outputs": [],
   "source": [
    "# image_folder = \"./data/\"\n",
    "\n",
    "band_dict = {\n",
    "    band: get_band(image_folder, band, resolution=10)\n",
    "    # band: get_band_bis(image_folder, band)\n",
    "    for band in [\"B02\", \"B03\", \"B04\", \"B08\"]\n",
    "}"
   ]
  },
  {
   "cell_type": "code",
   "execution_count": null,
   "metadata": {},
   "outputs": [],
   "source": [
    "# TODO\n",
    "\n",
    "# NDVI\n",
    "# NDVI = (B8 - B4) / (B8 + B04)\n",
    "\n",
    "# SWIR\n",
    "# SWIR = (B11 - B08) / (B11 + B08)\n",
    "\n",
    "# Nuages ? robuste\n",
    "# Shapefile en sortie"
   ]
  },
  {
   "cell_type": "code",
   "execution_count": null,
   "metadata": {},
   "outputs": [],
   "source": [
    "# B = B04, G = B03, R = B02\n",
    "R = band_dict[\"B02\"]\n",
    "G = band_dict[\"B03\"]\n",
    "B = band_dict[\"B04\"]\n",
    "B8 = band_dict[\"B08\"]\n",
    "NDVI = (B8 - B) / (B8 + B)\n",
    "\n",
    "NDVI_processed = NDVI / 255\n",
    "NDVI_processed = NDVI_processed.astype(int)\n",
    "\n",
    "plt.imshow(NDVI_processed)\n",
    "plt.show()"
   ]
  },
  {
   "cell_type": "code",
   "execution_count": null,
   "metadata": {},
   "outputs": [],
   "source": [
    "# Recreating an RGB image\n",
    "img = cv2.merge((band_dict[\"B08\"], band_dict[\"B04\"], band_dict[\"B03\"]))\n",
    "\n",
    "plt.imshow(img)\n",
    "plt.show()"
   ]
  },
  {
   "cell_type": "code",
   "execution_count": null,
   "metadata": {},
   "outputs": [],
   "source": [
    "img_processed = img / 8\n",
    "img_processed = img_processed.astype(int)\n",
    "\n",
    "plt.imshow(img_processed)\n",
    "plt.show()"
   ]
  },
  {
   "cell_type": "markdown",
   "metadata": {},
   "source": [
    "Splitting the images to machine learning ready sizes"
   ]
  },
  {
   "cell_type": "code",
   "execution_count": null,
   "metadata": {},
   "outputs": [],
   "source": [
    "frag_count = 45\n",
    "frag_size = int(img_processed.shape[0] / frag_count)\n",
    "frag_dict = {}\n",
    "\n",
    "for y, x in itertools.product(range(frag_count), range(frag_count)):\n",
    "    frag_dict[(x, y)] = img_processed[y * frag_size: (y + 1) * frag_size,\n",
    "        x * frag_size: (x + 1) * frag_size, :]"
   ]
  },
  {
   "cell_type": "markdown",
   "metadata": {},
   "source": [
    "Link data to the satellite images"
   ]
  },
  {
   "cell_type": "code",
   "execution_count": null,
   "metadata": {
    "scrolled": false
   },
   "outputs": [],
   "source": [
    "for k in range(35, 40):\n",
    "    plt.imshow(frag_dict[(k, 30)])\n",
    "    plt.show()\n",
    "\n",
    "# plt.imshow(frag_dict[(20, 12)])\n",
    "# plt.show()"
   ]
  },
  {
   "cell_type": "code",
   "execution_count": null,
   "metadata": {},
   "outputs": [],
   "source": [
    "def get_tci_file_path(image_folder):\n",
    "    subfolder = [f for f in os.listdir(image_folder + \"/GRANULE\") if f[0]  == \"L\"][0]\n",
    "    image_folder_path  = f\"{image_folder}/GRANULE/{subfolder}/IMG_DATA/R10m\"\n",
    "    image_files = [im for im in os.listdir(image_folder_path) if im[-4:] == \".jp2\"]\n",
    "    selected_file = [im for im in image_files if im.split(\"_\")[2] == \"TCI\"][0]\n",
    "    \n",
    "    return f\"{image_folder_path}/{selected_file}\"\n",
    "\n",
    "tci_file_path = get_tci_file_path(image_folder)"
   ]
  },
  {
   "cell_type": "code",
   "execution_count": null,
   "metadata": {},
   "outputs": [],
   "source": [
    "# Testing with the center of fragment 10, 10\n",
    "pixel_column = int(frag_size * 10.5)\n",
    "pixel_row = int(frag_size * 10.5)\n",
    "print(f\"pixel_column: {pixel_column}\")\n",
    "print(f\"pixel_row: {pixel_row}\")"
   ]
  },
  {
   "cell_type": "markdown",
   "metadata": {},
   "source": [
    "UTM: Universal Tranverse Mercator"
   ]
  },
  {
   "cell_type": "code",
   "execution_count": null,
   "metadata": {},
   "outputs": [],
   "source": [
    "transform = rasterio.open(tci_file_path, driver='JP2OpenJPEG').transform\n",
    "zone_number = int(tci_file_path.split(\"/\")[-1][1:3])\n",
    "zone_letter = tci_file_path.split(\"/\")[-1][0]\n",
    "\n",
    "utm_x, utm_y = transform[2], transform[5]"
   ]
  },
  {
   "cell_type": "code",
   "execution_count": null,
   "metadata": {},
   "outputs": [],
   "source": [
    "# Converting pixel position to UTM\n",
    "east = utm_x + pixel_column * 10\n",
    "north = utm_y + pixel_row * - 10\n",
    "\n",
    "# Converting UTM to latitude and longitude\n",
    "latitude, longitude = utm.to_latlon(east, north, zone_number, zone_letter)"
   ]
  },
  {
   "cell_type": "code",
   "execution_count": null,
   "metadata": {},
   "outputs": [],
   "source": [
    "print(f\"latitude, longitude: {latitude}, {longitude} \")"
   ]
  },
  {
   "cell_type": "code",
   "execution_count": null,
   "metadata": {},
   "outputs": [],
   "source": [
    "# Converting latitude and longitude to UTM\n",
    "east, north, zone_number, zone_letter = utm.from_latlon(latitude, longitude, force_zone_number=zone_number)\n",
    "\n",
    "# Converting UTM to column and row\n",
    "pixel_column = round((east - utm_x) / 10)\n",
    "pixel_row = round((north - utm_y) / - 10)"
   ]
  },
  {
   "cell_type": "code",
   "execution_count": null,
   "metadata": {},
   "outputs": [],
   "source": [
    "print(f\"pixel_column: {pixel_column}\")\n",
    "print(f\"pixel_row: {pixel_row}\")"
   ]
  },
  {
   "cell_type": "code",
   "execution_count": null,
   "metadata": {},
   "outputs": [],
   "source": [
    "plt.figure(figsize=(16, 9))\n",
    "plt.subplot(221)\n",
    "plt.imshow(frag_dict[(37, 30)])\n",
    "plt.subplot(222)\n",
    "plt.imshow(frag_dict[(38, 30)])\n",
    "plt.subplot(223)\n",
    "plt.imshow(frag_dict[(37, 31)])\n",
    "plt.subplot(224)\n",
    "plt.imshow(frag_dict[(38, 31)])\n",
    "plt.savefig(\"test.png\")\n",
    "plt.show()"
   ]
  },
  {
   "cell_type": "markdown",
   "metadata": {},
   "source": [
    "Edge detection with Canny"
   ]
  },
  {
   "cell_type": "code",
   "execution_count": null,
   "metadata": {},
   "outputs": [],
   "source": [
    "img = cv2.imread(\"test.png\")\n",
    "edges = cv2.Canny(img, 100, 200)\n",
    "\n",
    "plt.figure(figsize=(16, 9))\n",
    "plt.subplot(121)\n",
    "plt.imshow(img)\n",
    "plt.title('Original Image')\n",
    "plt.xticks([])\n",
    "plt.yticks([])\n",
    "plt.subplot(122)\n",
    "plt.imshow(edges, cmap='gray')\n",
    "plt.title('Edge Image')\n",
    "plt.xticks([])\n",
    "plt.yticks([])\n",
    "plt.show()"
   ]
  },
  {
   "cell_type": "code",
   "execution_count": null,
   "metadata": {},
   "outputs": [],
   "source": []
  }
 ],
 "metadata": {
  "interpreter": {
   "hash": "55b03f22f5ba085f7d66bc3e0c9ceacb024f6f488acd55b094b0b566b1975ec0"
  },
  "kernelspec": {
   "display_name": "Python 3.8.11 64-bit ('env_cnes': conda)",
   "name": "python3"
  },
  "language_info": {
   "codemirror_mode": {
    "name": "ipython",
    "version": 3
   },
   "file_extension": ".py",
   "mimetype": "text/x-python",
   "name": "python",
   "nbconvert_exporter": "python",
   "pygments_lexer": "ipython3",
   "version": "3.8.11"
  },
  "toc": {
   "base_numbering": 1,
   "nav_menu": {},
   "number_sections": true,
   "sideBar": true,
   "skip_h1_title": false,
   "title_cell": "Table of Contents",
   "title_sidebar": "Contents",
   "toc_cell": false,
   "toc_position": {},
   "toc_section_display": true,
   "toc_window_display": false
  },
  "varInspector": {
   "cols": {
    "lenName": 16,
    "lenType": 16,
    "lenVar": 40
   },
   "kernels_config": {
    "python": {
     "delete_cmd_postfix": "",
     "delete_cmd_prefix": "del ",
     "library": "var_list.py",
     "varRefreshCmd": "print(var_dic_list())"
    },
    "r": {
     "delete_cmd_postfix": ") ",
     "delete_cmd_prefix": "rm(",
     "library": "var_list.r",
     "varRefreshCmd": "cat(var_dic_list()) "
    }
   },
   "position": {
    "height": "419.85px",
    "left": "1774px",
    "right": "20px",
    "top": "120px",
    "width": "350px"
   },
   "types_to_exclude": [
    "module",
    "function",
    "builtin_function_or_method",
    "instance",
    "_Feature"
   ],
   "window_display": false
  }
 },
 "nbformat": 4,
 "nbformat_minor": 2
}
