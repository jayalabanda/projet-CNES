{
 "cells": [
  {
   "cell_type": "code",
   "execution_count": null,
   "metadata": {},
   "outputs": [],
   "source": [
    "import pandas as pd\n",
    "import fiona\n",
    "\n",
    "polyDf = pd.read_csv('data/coords_utm_var.csv')\n",
    "polyDf['name'] = ['point' + str(i) for i in range(len(polyDf))]\n",
    "\n",
    "schema = {\n",
    "    'geometry': 'Polygon',\n",
    "    'properties': [('Name', 'str')]\n",
    "}"
   ]
  },
  {
   "cell_type": "code",
   "execution_count": null,
   "metadata": {},
   "outputs": [],
   "source": [
    "fiona.supported_drivers"
   ]
  },
  {
   "cell_type": "code",
   "execution_count": null,
   "metadata": {},
   "outputs": [],
   "source": [
    "#open a fiona object\n",
    "polyShp = fiona.open('output/fire_poly.shp', mode='w', driver='ESRI Shapefile',\n",
    "    schema=schema, crs=\"EPSG:4326\")\n",
    "\n",
    "#get list of points\n",
    "xyList = []\n",
    "rowName = ''\n",
    "for index, row in polyDf.iterrows():\n",
    "    xyList.append((row.latitude, row.longitude))\n",
    "    rowName = row.name\n",
    "xyList[:5]"
   ]
  },
  {
   "cell_type": "code",
   "execution_count": null,
   "metadata": {},
   "outputs": [],
   "source": [
    "#save record and close shapefile\n",
    "rowDict = {\n",
    "'geometry' : {'type':'Polygon',\n",
    "                 'coordinates': [xyList]}, # Here the xyList is in brackets\n",
    "'properties': {'Name' : rowName},\n",
    "}\n",
    "polyShp.write(rowDict)\n",
    "#close fiona object\n",
    "polyShp.close()"
   ]
  },
  {
   "cell_type": "code",
   "execution_count": null,
   "metadata": {},
   "outputs": [],
   "source": []
  }
 ],
 "metadata": {
  "interpreter": {
   "hash": "55b03f22f5ba085f7d66bc3e0c9ceacb024f6f488acd55b094b0b566b1975ec0"
  },
  "kernelspec": {
   "display_name": "Python 3.9.7 64-bit ('env_cnes': conda)",
   "language": "python",
   "name": "python3"
  },
  "language_info": {
   "codemirror_mode": {
    "name": "ipython",
    "version": 3
   },
   "file_extension": ".py",
   "mimetype": "text/x-python",
   "name": "python",
   "nbconvert_exporter": "python",
   "pygments_lexer": "ipython3",
   "version": "3.9.7"
  },
  "orig_nbformat": 4
 },
 "nbformat": 4,
 "nbformat_minor": 2
}
