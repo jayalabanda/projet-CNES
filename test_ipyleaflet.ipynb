{
 "cells": [
  {
   "cell_type": "code",
   "execution_count": null,
   "metadata": {},
   "outputs": [],
   "source": [
    "from ipyleaflet import Map, Marker, basemaps\n",
    "from ipyleaflet.velocity import Velocity\n",
    "\n",
    "import os\n",
    "import xarray as xr"
   ]
  },
  {
   "cell_type": "code",
   "execution_count": null,
   "metadata": {},
   "outputs": [],
   "source": [
    "ds = xr.open_dataset('data/nc_files/wind_2020_08_27.nc')\n",
    "print(ds)"
   ]
  },
  {
   "cell_type": "code",
   "execution_count": null,
   "metadata": {},
   "outputs": [],
   "source": [
    "# reshape to 2D\n",
    "ds = ds.isel(time=0)\n",
    "ds = ds.rename({'longitude': 'lon', 'latitude': 'lat'})\n",
    "print(ds)"
   ]
  },
  {
   "cell_type": "code",
   "execution_count": null,
   "metadata": {},
   "outputs": [],
   "source": [
    "center = (44.304655, 5.506011)\n",
    "zoom = 5\n",
    "\n",
    "my_map = Map(center=center,\n",
    "    zoom=zoom,\n",
    "    interpolation='nearest',\n",
    "    basemap=basemaps.CartoDB.DarkMatter)\n",
    "\n",
    "# Add winds to the map\n",
    "\n",
    "wind = Velocity(data=ds,\n",
    "                zonal_speed='u10',\n",
    "                meridional_speed='v10',\n",
    "                latitude_dimension='lat',\n",
    "                longitude_dimension='lon',\n",
    "                velocity_scale=0.01,\n",
    "                max_velocity=20)\n",
    "my_map.add_layer(wind)\n",
    "\n",
    "marker = Marker(location=center, draggable=False)\n",
    "my_map.add_layer(marker)\n",
    "\n",
    "my_map"
   ]
  },
  {
   "cell_type": "code",
   "execution_count": null,
   "metadata": {},
   "outputs": [],
   "source": [
    "# save map to html\n",
    "my_map.save('output/maps/wind_2020_08_27.html')"
   ]
  },
  {
   "cell_type": "code",
   "execution_count": null,
   "metadata": {},
   "outputs": [],
   "source": [
    "if not os.path.exists('wind-global.nc'):\n",
    "  url = 'https://github.com/benbovy/xvelmap/raw/master/notebooks/wind-global.nc'\n",
    "  import requests\n",
    "  r = requests.get(url)\n",
    "  wind_data = r.content\n",
    "  with open('wind-global.nc', 'wb') as f:\n",
    "      f.write(wind_data)\n",
    "\n",
    "center = [0, 0]\n",
    "zoom = 1\n",
    "m = Map(center=center, zoom=zoom, interpolation='nearest', basemap=basemaps.CartoDB.DarkMatter)\n",
    "\n",
    "ds = xr.open_dataset('wind-global.nc')\n",
    "display_options = {\n",
    "    'velocityType': 'Global Wind',\n",
    "    'displayPosition': 'bottomleft',\n",
    "    'displayEmptyString': 'No wind data'\n",
    "}\n",
    "wind = Velocity(data=ds,\n",
    "                zonal_speed='u_wind',\n",
    "                meridional_speed='v_wind',\n",
    "                latitude_dimension='lat',\n",
    "                longitude_dimension='lon',\n",
    "                velocity_scale=0.01,\n",
    "                max_velocity=20,\n",
    "                display_options=display_options)\n",
    "m.add_layer(wind)\n",
    "\n",
    "m"
   ]
  },
  {
   "cell_type": "code",
   "execution_count": null,
   "metadata": {},
   "outputs": [],
   "source": [
    "print(ds)"
   ]
  },
  {
   "cell_type": "code",
   "execution_count": null,
   "metadata": {},
   "outputs": [],
   "source": [
    "ds.attrs"
   ]
  },
  {
   "cell_type": "code",
   "execution_count": null,
   "metadata": {},
   "outputs": [],
   "source": []
  }
 ],
 "metadata": {
  "interpreter": {
   "hash": "55b03f22f5ba085f7d66bc3e0c9ceacb024f6f488acd55b094b0b566b1975ec0"
  },
  "kernelspec": {
   "display_name": "Python 3.9.7 64-bit ('env_cnes': conda)",
   "language": "python",
   "name": "python3"
  },
  "language_info": {
   "codemirror_mode": {
    "name": "ipython",
    "version": 3
   },
   "file_extension": ".py",
   "mimetype": "text/x-python",
   "name": "python",
   "nbconvert_exporter": "python",
   "pygments_lexer": "ipython3",
   "version": "3.9.7"
  },
  "orig_nbformat": 4
 },
 "nbformat": 4,
 "nbformat_minor": 2
}
