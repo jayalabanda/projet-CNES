{
 "cells": [
  {
   "cell_type": "code",
   "execution_count": null,
   "metadata": {},
   "outputs": [],
   "source": [
    "from ipyleaflet import Marker, basemaps\n",
    "from ipyleaflet.velocity import Velocity\n",
    "import geemap\n",
    "import utils.wind_data as wd\n",
    "\n",
    "import xarray as xr\n",
    "import cdsapi\n",
    "c = cdsapi.Client()"
   ]
  },
  {
   "cell_type": "code",
   "execution_count": null,
   "metadata": {},
   "outputs": [],
   "source": [
    "c.retrieve(\n",
    "    'satellite-land-cover',\n",
    "    {\n",
    "        'variable': 'all',\n",
    "        'format': 'zip',\n",
    "        'year': '2020',\n",
    "        'version': 'v2.1.1',\n",
    "    },\n",
    "    'download.zip')"
   ]
  },
  {
   "cell_type": "code",
   "execution_count": null,
   "metadata": {},
   "outputs": [],
   "source": [
    "nc_file = 'data/nc_files/C3S-LC-L4-LCCS-Map-300m-P1Y-2020-v2.1.1.nc'"
   ]
  },
  {
   "cell_type": "code",
   "execution_count": null,
   "metadata": {},
   "outputs": [],
   "source": [
    "ds = xr.open_dataset(nc_file)\n",
    "print(ds)"
   ]
  },
  {
   "cell_type": "code",
   "execution_count": null,
   "metadata": {},
   "outputs": [],
   "source": [
    "ds.dims"
   ]
  },
  {
   "cell_type": "code",
   "execution_count": null,
   "metadata": {},
   "outputs": [],
   "source": [
    "ds.coords"
   ]
  },
  {
   "cell_type": "code",
   "execution_count": null,
   "metadata": {},
   "outputs": [],
   "source": [
    "ds.attrs"
   ]
  },
  {
   "cell_type": "code",
   "execution_count": null,
   "metadata": {},
   "outputs": [],
   "source": [
    "ds['lccs_class'].shape"
   ]
  },
  {
   "cell_type": "code",
   "execution_count": null,
   "metadata": {},
   "outputs": [],
   "source": []
  },
  {
   "cell_type": "code",
   "execution_count": null,
   "metadata": {},
   "outputs": [],
   "source": [
    "c.retrieve(\n",
    "    'reanalysis-era5-single-levels',\n",
    "    {\n",
    "        'product_type': 'reanalysis',\n",
    "        'format': 'netcdf',\n",
    "        'variable': [\n",
    "            '10m_u_component_of_wind',\n",
    "            '10m_v_component_of_wind',\n",
    "        ],\n",
    "        'year': '2020',\n",
    "        'month': '08',\n",
    "        'day': '27',\n",
    "        'time': '12:00',\n",
    "        'grid': \"2.5/2.5\",\n",
    "    },\n",
    "    'data/nc_files/wind_2020_08_27_12.nc',\n",
    ")"
   ]
  },
  {
   "cell_type": "code",
   "execution_count": null,
   "metadata": {},
   "outputs": [],
   "source": [
    "ds = xr.open_dataset('data/nc_files/wind_2020_08_27_12.nc')\n",
    "print(ds)"
   ]
  },
  {
   "cell_type": "code",
   "execution_count": null,
   "metadata": {},
   "outputs": [],
   "source": [
    "ds = wd.reshape_data(ds)"
   ]
  },
  {
   "cell_type": "code",
   "execution_count": null,
   "metadata": {},
   "outputs": [],
   "source": [
    "center = (44.304655, 5.506011)\n",
    "zoom = 5\n",
    "\n",
    "my_map = geemap.Map(center=center,\n",
    "    zoom=zoom,\n",
    "    interpolation='nearest',\n",
    "    basemap=basemaps.CartoDB.DarkMatter\n",
    ")\n",
    "\n",
    "display_options = {\n",
    "    'velocityType': 'Global Wind',\n",
    "    'displayPosition': 'bottomleft',\n",
    "    'displayEmptyString': 'No wind data'\n",
    "}\n",
    "\n",
    "# Add winds to the map\n",
    "wind = Velocity(data=ds,\n",
    "                zonal_speed='u10',\n",
    "                meridional_speed='v10',\n",
    "                latitude_dimension='latitude',\n",
    "                longitude_dimension='longitude',\n",
    "                velocity_scale=0.01,\n",
    "                max_velocity=20,\n",
    "                display_options=display_options)\n",
    "my_map.add_layer(wind)\n",
    "my_map.addLayerControl()"
   ]
  },
  {
   "cell_type": "code",
   "execution_count": null,
   "metadata": {},
   "outputs": [],
   "source": [
    "marker = Marker(location=center, draggable=False, title=\"Test marker\")\n",
    "my_map.add_layer(marker)\n",
    "my_map.addLayerControl()"
   ]
  },
  {
   "cell_type": "code",
   "execution_count": null,
   "metadata": {},
   "outputs": [],
   "source": [
    "my_map"
   ]
  },
  {
   "cell_type": "code",
   "execution_count": null,
   "metadata": {},
   "outputs": [],
   "source": [
    "# save map to html\n",
    "my_map.save('output/maps/wind_2020_08_27.html')"
   ]
  },
  {
   "cell_type": "code",
   "execution_count": null,
   "metadata": {},
   "outputs": [],
   "source": []
  }
 ],
 "metadata": {
  "interpreter": {
   "hash": "55b03f22f5ba085f7d66bc3e0c9ceacb024f6f488acd55b094b0b566b1975ec0"
  },
  "kernelspec": {
   "display_name": "Python 3.9.7 64-bit ('env_cnes': conda)",
   "language": "python",
   "name": "python3"
  },
  "language_info": {
   "codemirror_mode": {
    "name": "ipython",
    "version": 3
   },
   "file_extension": ".py",
   "mimetype": "text/x-python",
   "name": "python",
   "nbconvert_exporter": "python",
   "pygments_lexer": "ipython3",
   "version": "3.8.12"
  },
  "orig_nbformat": 4
 },
 "nbformat": 4,
 "nbformat_minor": 2
}
